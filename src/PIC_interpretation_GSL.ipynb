{
 "cells": [
  {
   "cell_type": "code",
   "execution_count": null,
   "metadata": {},
   "outputs": [],
   "source": [
    "using LinearAlgebra, QuadGK, Roots, FFTW, FastGaussQuadrature\n",
    "using VlasovSolvers\n",
    "import VlasovSolvers: advection!\n",
    "import VlasovSolvers: samples, Particles, PIC_step!, ParticleMover\n",
    "using Plots\n",
    "using ProgressMeter\n",
    "\n",
    "using LaTeXStrings"
   ]
  },
  {
   "cell_type": "code",
   "execution_count": null,
   "metadata": {},
   "outputs": [],
   "source": [
    "struct RectangleRule\n",
    "    len  :: Int64\n",
    "    start :: Float64\n",
    "    stop  :: Float64\n",
    "    points :: Vector{Float64}\n",
    "    weights :: Vector{Float64}\n",
    "    step :: Float64\n",
    "\n",
    "    function RectangleRule(len, start, stop)\n",
    "        points = LinRange(start, stop, len+1)[1:end-1]\n",
    "        s = step(points) \n",
    "        weights = [s for _ = 1:len]\n",
    "        new(len, start, stop, vec(points), weights, s)\n",
    "    end\n",
    "end"
   ]
  },
  {
   "cell_type": "code",
   "execution_count": null,
   "metadata": {},
   "outputs": [],
   "source": [
    "struct TrapezoidalRule\n",
    "    len  :: Int64\n",
    "    start :: Float64\n",
    "    stop  :: Float64\n",
    "    points :: Vector{Float64}\n",
    "    weights :: Vector{Float64}\n",
    "    step :: Float64\n",
    "\n",
    "    function TrapezoidalRule(len, start, stop)\n",
    "        points = LinRange(start, stop, len)[1:end]\n",
    "        s = step(points) \n",
    "        weights = [s for _ = 1:len]\n",
    "        weights[1] /= 2\n",
    "        weights[end] /= 2\n",
    "        new(len, start, stop, vec(points), weights, s)\n",
    "    end\n",
    "end"
   ]
  },
  {
   "cell_type": "code",
   "execution_count": null,
   "metadata": {},
   "outputs": [],
   "source": [
    "struct SimpsonRule\n",
    "    len  :: Int64\n",
    "    start :: Float64\n",
    "    stop  :: Float64\n",
    "    points :: Vector{Float64}\n",
    "    weights :: Vector{Float64}\n",
    "    step :: Float64\n",
    "\n",
    "    function SimpsonRule(len, start, stop)\n",
    "        # make sure the number of points is uneven\n",
    "        if len % 2 == 0\n",
    "            len += 1\n",
    "        end\n",
    "        points = LinRange(start, stop, len)\n",
    "        s = step(points) \n",
    "        weights = s/3 .* ones(len)\n",
    "        weights[2:2:end-1] .*= 4\n",
    "        weights[3:2:end-2] .*= 2\n",
    "        new(len, start, stop, vec(points), weights, s)\n",
    "    end\n",
    "end"
   ]
  },
  {
   "cell_type": "code",
   "execution_count": null,
   "metadata": {},
   "outputs": [],
   "source": [
    "struct GaussLegendreRule\n",
    "    len  :: Int64\n",
    "    start :: Float64\n",
    "    stop  :: Float64\n",
    "    points :: Array{Float64}\n",
    "    weights :: Array{Float64}\n",
    "\n",
    "    function GaussLegendreRule(len, start, stop)\n",
    "        points, weights = gausslegendre(len)\n",
    "        points .+= 1\n",
    "        points .*= (stop - start) / 2\n",
    "        points .+= start\n",
    "        weights .*= (stop - start) / 2\n",
    "        new(len, start, stop, points, weights)\n",
    "    end\n",
    "end"
   ]
  },
  {
   "cell_type": "code",
   "execution_count": null,
   "metadata": {},
   "outputs": [],
   "source": [
    "struct GaussRadauRule\n",
    "    len  :: Int64\n",
    "    start :: Float64\n",
    "    stop  :: Float64\n",
    "    points :: Array{Float64}\n",
    "    weights :: Array{Float64}\n",
    "\n",
    "    function GaussRadauRule(len, start, stop)\n",
    "        points, weights = gaussradau(len)\n",
    "        points .+= 1\n",
    "        points .*= (stop - start) / 2\n",
    "        points .+= start\n",
    "        weights .*= (stop - start) / 2\n",
    "        new(len, start, stop, points, weights)\n",
    "    end\n",
    "end"
   ]
  },
  {
   "cell_type": "code",
   "execution_count": null,
   "metadata": {},
   "outputs": [],
   "source": [
    "struct GaussLobattoRule\n",
    "    len  :: Int64\n",
    "    start :: Float64\n",
    "    stop  :: Float64\n",
    "    points :: Array{Float64}\n",
    "    weights :: Array{Float64}\n",
    "\n",
    "    function GaussLobattoRule(len, start, stop)\n",
    "        points, weights = gausslobatto(len)\n",
    "        points .+= 1\n",
    "        points .*= (stop - start) / 2\n",
    "        points .+= start\n",
    "        weights .*= (stop - start) / 2\n",
    "        new(len, start, stop, points, weights)\n",
    "    end\n",
    "end"
   ]
  },
  {
   "cell_type": "code",
   "execution_count": null,
   "metadata": {},
   "outputs": [],
   "source": [
    "struct KronrodRule\n",
    "    len  :: Int64\n",
    "    start :: Float64\n",
    "    stop  :: Float64\n",
    "    points :: Vector{Float64}\n",
    "    weights :: Vector{Float64}\n",
    "    step :: Float64\n",
    "\n",
    "    function KronrodRule(len, start, stop)\n",
    "        pts, w, _ = kronrod(len)\n",
    "        weights = []\n",
    "        points = []\n",
    "        for i = 1:len\n",
    "            push!(points, pts[i])\n",
    "            push!(weights, w[i])\n",
    "            push!(points, -pts[i])\n",
    "            push!(weights, w[i])\n",
    "        end\n",
    "        push!(points, pts[end])\n",
    "        push!(weights, w[end])\n",
    "        \n",
    "        points .+= 1\n",
    "        points .*= (stop - start) / 2\n",
    "        points .+= start\n",
    "        weights .*= (stop - start) / 2\n",
    "        len = 2*len + 1\n",
    "        new(len, start, stop, points, weights)\n",
    "end\n",
    "    end"
   ]
  },
  {
   "cell_type": "code",
   "execution_count": null,
   "metadata": {},
   "outputs": [],
   "source": [
    "struct rkn_order4\n",
    "    a :: Array{Float64, 2}\n",
    "    b̄ :: Vector{Float64}\n",
    "    c :: Vector{Float64}\n",
    "    b :: Vector{Float64}\n",
    "    dt :: Float64\n",
    "    fg ::       Array{Float64, 2}\n",
    "    G ::        Array{Float64, 1}\n",
    "    tmpcos ::   Array{Float64, 1}\n",
    "    tmpsin ::   Array{Float64, 1}\n",
    "    C :: Vector{Float64}\n",
    "    S :: Vector{Float64}\n",
    "\n",
    "    function rkn_order4(X, dt)\n",
    "        # a, b̄, c, b correspond to the Butcher tableau\n",
    "        a = [0.0        0.0       0.0; \n",
    "            (2-√3)/12   0.0           0.0; \n",
    "            0.0         √(3)/6      0.0]\n",
    "        b̄ = [(5 - 3*√3)/24,     (3+√3)/12,  (1+√3)/24]\n",
    "        c = [(3+√3)/6,          (3-√3)/6,   (3+√3)/6]\n",
    "        b = [(3-2*√3)/12,       1/2,        (3+2*√3)/12]\n",
    "\n",
    "        new(a .* dt^2, b̄ .* dt^2, c .* dt, b .* dt, dt,\n",
    "            zeros(Float64, length(X), 3), \n",
    "            similar(X), \n",
    "            similar(X),\n",
    "            similar(X), [0.0], [0.0])\n",
    "    end\n",
    "end"
   ]
  },
  {
   "cell_type": "code",
   "execution_count": null,
   "metadata": {},
   "outputs": [],
   "source": [
    "#= ==================== symplectic_RKN_order4!\n",
    "Advect (X, V) on a time step dt using symplectic Runge-Kutta-Nystrom method of order4 [FQ10, sect.7.3, p.327, scheme1].\n",
    "\n",
    "The equation satisfied by X is d^2(X(t)) / dt^2 = C(t)\\cos(X(t)) - S(t)sin(X(t)).\n",
    "\n",
    "RKN method considers Ẋ = V as a variable, and updates both X and V.\n",
    "\n",
    "Using a change of variable and the jacobian of the flow being equal to 1, it is enough to know the function f on some\n",
    "initial fixed grid, independant of time, to compute C(t) and S(t).\n",
    "\n",
    "Args:\n",
    "- X: matrix of positions at time t_n\n",
    "- V: matrix of velocities at time t_n\n",
    "- F: values of initial condition at time t_0\n",
    "- rkn: rkn_order_4 struct, storing butcher tableau and pre-allocated arrays.\n",
    "- kx: 2π/L\n",
    "\n",
    "Updates X, V in place, and returns coefficients C, S at current time. \n",
    "==================== =#\n",
    "function symplectic_RKN_order4!(X, V, F, rkn, kx)  \n",
    "    @views begin\n",
    "        for s=1:3\n",
    "            rkn.G .= X .+ V .* rkn.c[s] .+ rkn.a[s, 1] .* rkn.fg[:, 1] .+ rkn.a[s, 2] .* rkn.fg[:, 2] .+ rkn.a[s, 3] .* rkn.fg[:, 3]\n",
    "            \n",
    "            rkn.G .*= kx\n",
    "     \n",
    "            rkn.tmpcos .= cos.(rkn.G)\n",
    "            rkn.tmpsin .= sin.(rkn.G)\n",
    "            sum!(rkn.C, rkn.tmpcos .* F)\n",
    "            sum!(rkn.S, rkn.tmpsin .* F)\n",
    "            rkn.C ./= π\n",
    "            rkn.S ./= π\n",
    "            rkn.fg[:, s] .= (rkn.C[1] .* rkn.tmpsin .- rkn.S[1] .* rkn.tmpcos)\n",
    "        end\n",
    "    \n",
    "        X .+= rkn.dt .* V .+ rkn.b̄[1] .* rkn.fg[:, 1] .+ rkn.b̄[2]  .* rkn.fg[:, 2] .+ rkn.b̄[3]  .* rkn.fg[:, 3]\n",
    "        V .+= rkn.b[1] .* rkn.fg[:, 1] .+ rkn.b[2] .* rkn.fg[:, 2] .+ rkn.b[3] .* rkn.fg[:, 3]\n",
    "        rkn.tmpcos .= cos.(X .* kx)\n",
    "        rkn.tmpsin .= sin.(X .* kx)\n",
    "        sum!(rkn.C, rkn.tmpcos .* F)\n",
    "        sum!(rkn.S, rkn.tmpsin .* F)\n",
    "    end\n",
    "    return @views rkn.C[1], rkn.S[1]\n",
    "end"
   ]
  },
  {
   "cell_type": "code",
   "execution_count": null,
   "metadata": {},
   "outputs": [],
   "source": [
    "function strang_splitting!(X, V, F, kx, dt)  \n",
    "    X .+= V .* dt/2\n",
    "    C = sum(cos.(X .* kx) .* F)\n",
    "    S = sum(sin.(X .* kx) .* F)\n",
    "    dphidx = (-C.*sin.(X .* kx) + S.*cos.(X .* kx)) ./ π\n",
    "    V .-= dt .* dphidx\n",
    "    X .+= V .* dt/2\n",
    "    return C, S\n",
    "end"
   ]
  },
  {
   "cell_type": "markdown",
   "metadata": {},
   "source": [
    "## SL Généralisée"
   ]
  },
  {
   "cell_type": "code",
   "execution_count": null,
   "metadata": {},
   "outputs": [],
   "source": [
    "function generalized_SL(nsteps::Int64, dt::Float64, quadrulex, quadrulev, kx, f0::Function; plotting=false::Bool)\n",
    "\n",
    "    C = 0.0\n",
    "    S = 0.0\n",
    "\n",
    "    newX = vec(repeat(quadrulex.points, 1, quadrulev.len))   # newX[i, j] is position at current time when starting from x0_i, v0_j\n",
    "    newV = vec(repeat(quadrulev.points', quadrulex.len, 1))  # newV[i, j] is velocity at current time when starting from x0_i, v0_j\n",
    "    \n",
    "    E²_elec  = Array{Float64}(undef, nsteps)\n",
    "    E²_tot   = Array{Float64}(undef, nsteps)\n",
    "\n",
    "    rkn = rkn_order4(newX, dt)\n",
    "\n",
    "    if plotting\n",
    "        widthx = -(-)(extrema(quadrulex.points)...)\n",
    "        widthv = -(-)(extrema(quadrulev.points)...)\n",
    "        scale = 25\n",
    "    end\n",
    "    \n",
    "    progression = ProgressMeter.Progress(nstep,desc=\"Loop in time: \", showspeed=true)\n",
    "        \n",
    "    f0vals = vec(f0.(quadrulex.points, quadrulev.points') .* quadrulex.weights .* quadrulev.weights')\n",
    "\n",
    "    animation = @animate for istep=1:nsteps\n",
    "        C, S = symplectic_RKN_order4!(newX, newV, f0vals, rkn, kx)\n",
    "        # C, S = strang_splitting!(newX, newV, f0vals, kx, dt)\n",
    "        \n",
    "        E²_elec[istep] = (C^2 + S^2) * quadrulex.stop / (2*π^2)\n",
    "        E²_tot[istep] = (E²_elec[istep] + sum(newV.^2 .* f0vals)) / 2 \n",
    "        \n",
    "        newX[findall(x -> x > quadrulex.stop,  newX)] .-= quadrulex.stop - quadrulex.start\n",
    "        newX[findall(x -> x < quadrulex.start, newX)] .+= quadrulex.stop - quadrulex.start\n",
    " \n",
    "        if plotting\n",
    "            # histogram2d(vec(newX), vec(newV), weights=vec(f0vals), bins=(nx, nv).*3, normalize=true, xlabel=\"position\", ylabel=\"velocity\", fillcolor=:roma)\n",
    "            markerscale = 20\n",
    "            plot(newX, newV, f0vals, seriestype=:scatter, markersize=sqrt(widthx * widthv * markerscale^2  / (nx*nv) / π), camera=(0, 90), markerstrokecolor=\"white\", markerstrokewidth=0, label=\"\", zcolor=vec(f0vals), c=:rainbow,aspect_ratio=:equal, size=(widthx, widthv).* 30)\n",
    "            title!(\"Progression: $(round(Int64,100*progression.counter / progression.n))%\")\n",
    "        end\n",
    "        ProgressMeter.next!(progression)\n",
    "     end when plotting\n",
    "\n",
    "     return sqrt.(E²_elec), sqrt.(E²_tot), animation, newX, newV, f0vals\n",
    "end"
   ]
  },
  {
   "cell_type": "markdown",
   "metadata": {},
   "source": [
    "## SL classique"
   ]
  },
  {
   "cell_type": "code",
   "execution_count": null,
   "metadata": {},
   "outputs": [],
   "source": [
    "\"\"\"\n",
    "    hmf_poisson!(fᵗ    :: Array{Complex{Float64},2},\n",
    "                 mesh1 :: OneDGrid,\n",
    "                 mesh2 :: OneDGrid,\n",
    "                 ex    :: Array{Float64})\n",
    "\n",
    "    Compute the electric hamiltonian mean field from the\n",
    "    transposed distribution function\n",
    "\n",
    "\"\"\"\n",
    "function hmf_poisson!(fᵗ::Array{Complex{Float64},2},\n",
    "        mesh1::OneDGrid,\n",
    "        mesh2::OneDGrid,\n",
    "        ex::Array{Float64})\n",
    "\n",
    "    n1 = mesh1.len\n",
    "    rho = mesh2.step .* vec(sum(fᵗ, dims=1)) # ≈ ∫ f(t,x_i,v)dv, i=1, ..., n1\n",
    "    kernel = zeros(Float64, n1)\n",
    "    k = -(mesh1.stop - mesh1.start) / (2π)\n",
    "    kernel[2]   =  k    # fourier mode  1\n",
    "    kernel[end] = -k    # fourier mode -1\n",
    "    ex .= real(ifft(fft(rho) .* 1im .* kernel))\n",
    "end\n",
    "\n",
    "function solve_SL!(nsteps, dt, f, mesh1, mesh2, kx; plotting=false::Bool)\n",
    "    n1, n2 = size(f)\n",
    "    fᵗ = zeros(Complex{Float64}, (n2,n1))\n",
    "    transpose!(fᵗ, f)\n",
    "\n",
    "    energy² = Array{Float64}(undef, nsteps)\n",
    "    etot² = Array{Float64}(undef, nsteps)\n",
    "\n",
    "    ex = zeros(Float64, n1)\n",
    "    hmf_poisson!(fᵗ, mesh1, mesh2, ex)\n",
    "    advection!(fᵗ, mesh2, ex, 0.5dt)\n",
    "\n",
    "    progression = ProgressMeter.Progress(nsteps,desc=\"Loop in time: \", showspeed=true)\n",
    "    \n",
    "    animation = @animate for istep = 1:nsteps\n",
    "        energy²[istep] = sum(ex.^2) * mesh1.step\n",
    "        etot²[istep] = (energy²[istep] + sum(mesh2.points'.^2 .* real(f)) * mesh1.step * mesh2.step) / 2\n",
    "    \n",
    "        advection!(f, mesh1, mesh2.points, dt)\n",
    "        transpose!(fᵗ, f)\n",
    "        hmf_poisson!(fᵗ, mesh1, mesh2, ex)\n",
    "        advection!(fᵗ, mesh2, ex, dt)\n",
    "        transpose!(f, fᵗ) \n",
    "        \n",
    "        if plotting\n",
    "            plot(mesh1.points, mesh2.points, real(f)', size=(500, 500), st=:surface, camera=(0, 90))\n",
    "            title!(\"Progression: $(round(Int64,100*progression.counter / progression.n))%\")\n",
    "        end\n",
    "        \n",
    "        ProgressMeter.next!(progression)\n",
    "    end when plotting\n",
    "    if plotting\n",
    "        return sqrt.(energy²), sqrt.(etot²), ex, animation\n",
    "    else\n",
    "        return sqrt.(energy²), sqrt.(etot²), ex, nothing\n",
    "    end\n",
    "end"
   ]
  },
  {
   "cell_type": "markdown",
   "metadata": {},
   "source": [
    "# PIC solver"
   ]
  },
  {
   "cell_type": "code",
   "execution_count": null,
   "metadata": {},
   "outputs": [],
   "source": [
    "function solve_PIC!(nsteps, dt, particles, meshx, kx; plotting=false::Bool)\n",
    "    potential = []\n",
    "    energy²_elec_from_phi = []\n",
    "    energy²_elec_from_proj= []\n",
    "    energy²_hamil_elec = []\n",
    "    L = meshx.stop\n",
    "    np = particles.nbpart\n",
    "\n",
    "    pmover = ParticleMover(particles, meshx, kx, 1)\n",
    "    \n",
    "    if plotting\n",
    "        widthx = -(-)(extrema(quadrulex.points)...)\n",
    "        widthv = -(-)(extrema(quadrulev.points)...)\n",
    "        scale = 25\n",
    "    end\n",
    "    \n",
    "    progression = ProgressMeter.Progress(nsteps,desc=\"Loop in time: \", showspeed=true)\n",
    "    animation = @animate for istep = 1:nsteps # Loop over time\n",
    "        if plotting\n",
    "            scale = 25\n",
    "            plot(vec(p.x), vec(p.v), vec(p.wei), seriestype=:scatter, markersize=sqrt(widthx * widthv * scale^2  / (nx*nv) / π), camera=(0, 90),markerstrokecolor=\"white\", markerstrokewidth=0, label=\"\", zcolor=vec(p.wei), c=:rainbow,aspect_ratio=:equal, size=(widthx, widthv).*scale)\n",
    "            title!(\"Progression: $(round(Int64,100*progression.counter / progression.n))%\")\n",
    "        end\n",
    "\n",
    "        e₁², e₂², e₃² = PIC_step!(p, pmover, dt)\n",
    "        push!(energy²_hamil_elec, e₁²)\n",
    "        push!(energy²_elec_from_phi, e₂²)\n",
    "        push!(energy²_elec_from_proj, e₃²)\n",
    "        \n",
    "        ProgressMeter.next!(progression)\n",
    "    end when plotting\n",
    "    return sqrt.(energy²_hamil_elec), sqrt.(energy²_elec_from_phi), sqrt.(energy²_elec_from_proj), animation\n",
    "end"
   ]
  },
  {
   "cell_type": "markdown",
   "metadata": {},
   "source": [
    "# INPUTS"
   ]
  },
  {
   "cell_type": "markdown",
   "metadata": {},
   "source": [
    "## Landau damping"
   ]
  },
  {
   "cell_type": "code",
   "execution_count": null,
   "metadata": {},
   "outputs": [],
   "source": [
    "kx = 0.5\n",
    "L = 2π / kx\n",
    "ϵ = 0.01\n",
    "μ = 0.0\n",
    "β = 1.0\n",
    "f(x,v) = (1 + ϵ * cos(kx*x)) * exp(-β * (v-μ)^2 / 2) / √(2π/β)\n",
    "castest = \"Landau damping\\n(kx, ϵ, μ, β) = $((kx, ϵ, μ, β)))\""
   ]
  },
  {
   "cell_type": "markdown",
   "metadata": {},
   "source": [
    "## Two-Stream Instability"
   ]
  },
  {
   "cell_type": "markdown",
   "metadata": {},
   "source": [
    "### Première version"
   ]
  },
  {
   "cell_type": "code",
   "execution_count": null,
   "metadata": {},
   "outputs": [],
   "source": [
    "kx = 0.2\n",
    "L = 2π / kx\n",
    "ϵ = 0.001\n",
    "β₁ = 1\n",
    "β₂ = 1\n",
    "v0 = 2.4\n",
    "μ₁ =  v0\n",
    "μ₂ = -v0\n",
    "f(x,v) = (1 + ϵ * cos(kx * x)) * (exp(-β₁*(v-μ₁)^2 / 2) + exp(-β₁*(v-μ₂)^2 / 2)) / (√(2π)) * 0.5\n",
    "castest = \"TSI\\n(kx, β₁, β₂, μ₁, μ₂) = $((kx, β₁, β₂, μ₁, μ₂))\""
   ]
  },
  {
   "cell_type": "markdown",
   "metadata": {},
   "source": [
    "### Seconde version"
   ]
  },
  {
   "cell_type": "code",
   "execution_count": null,
   "metadata": {},
   "outputs": [],
   "source": [
    "kx = 0.2\n",
    "L = 2π / kx\n",
    "ϵ = 0.001\n",
    "β = 1\n",
    "μ =  0\n",
    "f(x,v) = (1 + ϵ * cos(kx * x)) * v^2 * exp(-β*(v-μ)^2 / 2) / (√(2π))\n",
    "castest = \"TSI\\n(kx, β, μ) = $((kx, β, μ))\""
   ]
  },
  {
   "cell_type": "markdown",
   "metadata": {},
   "source": [
    "## Bump-on-Tail"
   ]
  },
  {
   "cell_type": "code",
   "execution_count": null,
   "metadata": {},
   "outputs": [],
   "source": [
    "kx = 0.3\n",
    "L = 2π / kx\n",
    "ϵ = 0.04\n",
    "β₁ = 1\n",
    "β₂ = 4\n",
    "μ₁ = 0\n",
    "μ₂ = 4.5\n",
    "nb = 0.2\n",
    "np = 0.9\n",
    "f(x,v) = (1 + ϵ * cos(kx*x)) * (np*exp(-β₁*(v-μ₁)^2 /2) + nb*exp(-β₂*(v-μ₂)^2 / 2)) / √(2π)\n",
    "castest = \"Bump on tail\\n(kx, ϵ, β₁, β₂, μ₁, μ₂, nb, np) = $((kx, ϵ, β₁, β₂, μ₁, μ₂, nb, np))\""
   ]
  },
  {
   "cell_type": "markdown",
   "metadata": {},
   "source": [
    "## Strong Landau Damping"
   ]
  },
  {
   "cell_type": "code",
   "execution_count": null,
   "metadata": {},
   "outputs": [],
   "source": [
    "kx = 0.5\n",
    "L = 2π / kx\n",
    "ϵ = 0.5\n",
    "β = 1.0\n",
    "μ = 0.0\n",
    "f(x,v) = (1 + ϵ * cos(kx*x)) * exp(-β * v^2 / 2) / √(2π/β)\n",
    "castest = \"Strong Landau damping\\n(kx, ϵ, μ, β) = $((kx, ϵ, μ, β)))\""
   ]
  },
  {
   "cell_type": "markdown",
   "metadata": {},
   "source": [
    "# Inputs indépendants du cas test"
   ]
  },
  {
   "cell_type": "code",
   "execution_count": null,
   "metadata": {},
   "outputs": [],
   "source": [
    "dev = CPU()\n",
    "\n",
    "nstep = 1000\n",
    "dt = 0.125\n",
    "\n",
    "nx = 32\n",
    "nv = 256\n",
    "\n",
    "vmax = 6.5\n",
    "\n",
    "meshx = OneDGrid(dev, nx, 0, L);\n",
    "meshv = OneDGrid(dev, nv, -vmax, vmax);\n",
    "\n",
    "quadX = TrapezoidalRule\n",
    "quadV = TrapezoidalRule\n",
    "\n",
    "quadrulex = quadX(nx, 0, L);\n",
    "quadrulev = quadV(nv, -vmax, vmax);"
   ]
  },
  {
   "cell_type": "markdown",
   "metadata": {},
   "source": [
    "# Simulations"
   ]
  },
  {
   "cell_type": "code",
   "execution_count": null,
   "metadata": {},
   "outputs": [],
   "source": [
    "gsl  = zeros(Complex{Float64}, (nx,nv));\n",
    "@. gsl = f.(meshx.points, meshv.points');\n",
    "@time E_elecsl, E_totsl, _, animationsl = solve_SL!(nstep, dt, gsl, meshx, meshv, kx; plotting=false);"
   ]
  },
  {
   "cell_type": "code",
   "execution_count": null,
   "metadata": {},
   "outputs": [],
   "source": [
    "# Solution de reference : \n",
    "# meshx2 = OneDGrid(dev, 4 * nx, 0, L) \n",
    "# meshv2 = OneDGrid(dev, 4 * nv, -4, 4) \n",
    "\n",
    "# gsl2  = zeros(Complex{Float64}, (4 * nx, 4 * nv));\n",
    "# @. gsl2 = f.(meshx2.points, meshv2.points');\n",
    "# @time E_elecsl2, E_totsl2, _, animationsl2 = solve_SL!(nstep * 4, dt / 4, gsl2, meshx2, meshv2, kx; plotting=false);"
   ]
  },
  {
   "cell_type": "code",
   "execution_count": null,
   "metadata": {},
   "outputs": [],
   "source": [
    "plotornot = false;\n",
    "@time E_elec, E_tot, animation, X, V, F = generalized_SL(nstep, dt, quadrulex, quadrulev, kx, f, plotting=plotornot);"
   ]
  },
  {
   "cell_type": "markdown",
   "metadata": {},
   "source": [
    "# PIC interpretation"
   ]
  },
  {
   "cell_type": "code",
   "execution_count": null,
   "metadata": {},
   "outputs": [],
   "source": [
    "np = nx*nv\n",
    "x0 = vec(repeat(quadrulex.points, 1, quadrulev.len)) \n",
    "v0 = vec(repeat(quadrulev.points', quadrulex.len, 1))\n",
    "wei = vec(f.(quadrulex.points, quadrulev.points') .* quadrulex.weights .* quadrulev.weights')\n",
    "p = Particles(x0, v0, wei, np);"
   ]
  },
  {
   "cell_type": "code",
   "execution_count": null,
   "metadata": {},
   "outputs": [],
   "source": [
    "@time energy_hamil_elec_gsl, energy_elec_from_phi_gsl, energy_elec_from_proj_gsl, animation = solve_PIC!(nstep, dt, p, meshx, kx, plotting=false);"
   ]
  },
  {
   "cell_type": "markdown",
   "metadata": {},
   "source": [
    "# Classical PIC"
   ]
  },
  {
   "cell_type": "code",
   "execution_count": null,
   "metadata": {},
   "outputs": [],
   "source": [
    "np = Int64(1e5)\n",
    "(x0, y0, wei) = samples(np, kx, ϵ, μ, β)\n",
    "p = Particles(x0, y0, wei, np);\n",
    "@time energy_hamil_elec, energy_elec_from_phi, energy_elec_from_proj, animation = solve_PIC!(nstep, dt, p, meshx, kx;plotting=false);"
   ]
  },
  {
   "cell_type": "markdown",
   "metadata": {},
   "source": [
    "# Plots"
   ]
  },
  {
   "cell_type": "code",
   "execution_count": null,
   "metadata": {},
   "outputs": [],
   "source": [
    "t = (1:nstep) .* dt\n",
    "\n",
    "# energies\n",
    "# plot(t, E_elec, label=L\"E_{elec charac},\\quad dt=\"*\"$(dt)\", legend=:outertopright, minorgrid=true, size=(400, 200).*2)\n",
    "# plot!(t, E_elecsl, label=L\"E_{elec, SL},\\quad dt=\"*\"$(dt)\")\n",
    "# plot!(t, energy_hamil_elec_gsl, label=L\"E_{elec, PIC charac},\\quad dt=\"*\"$(dt)\")\n",
    "# plot!(t, energy_hamil_elec, label=L\"E_{elec, PIC},\\quad dt=\"*\"$(dt)\")\n",
    "# plot!(t, E_tot, label=L\"E_{tot}\", scaley=:log10)\n",
    "\n",
    "# log(Energies)\n",
    "plot(t, log.(E_elec),       label=L\"\\log(E_{elec, carac}),\\quad dt=\"*\"$(dt)\", legend=:outertopright, minorgrid=true, size=(800, 400))\n",
    "plot!(t, log.(E_elecsl),    label=L\"\\log(E_{elec, SL}),\\quad dt=\"*\"$(dt)\", ls=:dash, lw=1)\n",
    "# plot!(t, log.(E_tot),       label=L\"\\log(E_{tot}),\\quad dt=\"*\"$(dt)\")\n",
    "plot!(t, log.(energy_hamil_elec), label=L\"\\log(E_{hamil, PIC}),\\quad dt=\"*\"$(dt)\", ls=:dot)\n",
    "plot!(t, log.(energy_elec_from_proj), label=L\"\\log(E_{hamil, PIC, proj}),\\quad dt=\"*\"$(dt)\", ls=:dot)\n",
    "plot!(t, log.(energy_hamil_elec_gsl), label=L\"\\log(E_{hamil, PIC carac}),\\quad dt=\"*\"$(dt)\", ls=:dot, lw=4)\n",
    "# plot!(t, log.(energy_elec_from_phi_gsl), label=L\"\\log(E_{hamil_{elec}, PIC carac}),\\quad dt=\"*\"$(dt)\", ls=:dashdot, lw=3)\n",
    "# plot!(t, log.(energy_elec_from_proj_gsl), label=L\"\\log(E_{hamil, PIC carac, proj}),\\quad dt=\"*\"$(dt)\", ls=:dot)\n",
    "# plot!(t, log.(energy_from_projection), label=L\"\\log(E_{pic, PIC}),\\quad dt=\"*\"$(dt)\")\n",
    "# plot!(t, log.(energy_elec_from_phi), label=L\"\\log(E_{from\\,\\Phi, PIC}),\\quad dt=\"*\"$(dt)\")\n",
    "\n",
    "\n",
    "# ============== #\n",
    "\n",
    "# Landau damping (kx=0.5):\n",
    "# plot!(x->-0.1533x - 5.6, label=\"Damping attendu (-0.1533)\")\n",
    "# E_th = abs.(4ϵ * 0.3677 .* exp.(−0.1533 .* t) .* cos.(1.4156.*t .−0.5326245)) * sqrt(L/2)\n",
    "# plot!(t, log.(E_th),label=\"Energie theorique\")\n",
    "# Landau damping (kx=0.4):\n",
    "# plot!(x->-0.0661x - 5.3, label=\"Damping attendu (-0.0661)\")\n",
    "# E_th = 0.002.*0.42466.*abs.(cos.(1.285.*t .-0.33577)).*exp.(-0.0661.*t) # expression du bouquin, pas correcte\n",
    "# E_th = abs.(4*ϵ*0.424666*exp.(-0.0661 .* t) .* cos.(1.2850 .* t .- 0.3357725) * sqrt(L/2)) # issue des calculs du bouquin en calculant correctement √(∫sin(0.5x)^2dx)\n",
    "# plot!(t, log.(E_th),label=\"Energie theorique\", ls=:dashdotdot)\n",
    "\n",
    "# TSI (k,v0) = (0.2, 1.3):\n",
    "# plot!(t, -0.001t .- 4.2, label=L\"y=0.001t - 5.0\")\n",
    "# TSI (k,v0) = (0.2, 2.4):\n",
    "# plot!(t, 0.2258t .- 6.4, label=L\"y=0.2258t - 8.4\")\n",
    "# TSI (k,v0) = (0.2, 3):\n",
    "# plot!(t, 0.2845t .- 6.1, label=L\"y=0.2845t - 8.2\")\n",
    "\n",
    "# Strong Landau damping\n",
    "# plot!(t, -0.285473t .+ 1, label=L\"y=-0.285473t + 1\")\n",
    "# plot!(t, 0.086671t .- 3.8, label=L\"y=0.086671t - 3.8\")\n",
    "\n",
    "title!(castest * \"\\n($(quadX)($(nx)), $(quadV)($(nv)))\")\n",
    "xlabel!(\"t\")"
   ]
  },
  {
   "cell_type": "markdown",
   "metadata": {},
   "source": [
    "# Plot annotations"
   ]
  },
  {
   "cell_type": "code",
   "execution_count": null,
   "metadata": {},
   "outputs": [],
   "source": [
    "p = 2π / 1.4156\n",
    "vline!(vcat([4 + i*p for i=0:4], [49.5 + i*p for i=0:3]), label=\"\")\n",
    "# vline!([28.1 + i*p for i=-4:0], label=\"\")"
   ]
  },
  {
   "cell_type": "code",
   "execution_count": null,
   "metadata": {},
   "outputs": [],
   "source": [
    "plot!([49.5, 49.5+p], [-10, -10], arrow=arrow(:closed, :both), label=\"\")\n",
    "annotate!((51.5, -10.3, text(L\"\\frac{2\\pi}{1.4156}\", :top, 10)))"
   ]
  },
  {
   "cell_type": "markdown",
   "metadata": {},
   "source": [
    "# Divers"
   ]
  },
  {
   "cell_type": "code",
   "execution_count": null,
   "metadata": {},
   "outputs": [],
   "source": [
    "E = E_tot\n",
    "plot(t, (E .- E[1]) ./ E[1])"
   ]
  },
  {
   "cell_type": "markdown",
   "metadata": {},
   "source": [
    "# Comparison with VlasovSolver's Bump on tail"
   ]
  },
  {
   "cell_type": "code",
   "execution_count": null,
   "metadata": {},
   "outputs": [],
   "source": [
    "using VlasovSolvers\n",
    "using Plots\n",
    "using LaTeXStrings"
   ]
  },
  {
   "cell_type": "code",
   "execution_count": null,
   "metadata": {},
   "outputs": [],
   "source": [
    "dev = CPU()                  # device\n",
    "stepper = StrangSplitting()  # timestepper\n",
    "dt = 0.05                     # timestep\n",
    "nsteps = 8000                # total number of time-steps\n",
    "\n",
    "α   = 0.04\n",
    "kx  = 0.3\n",
    "\n",
    "n1, n2 = 32, 64\n",
    "x1min, x1max = 0.0, 20π\n",
    "x2min, x2max = -9., 9.\n",
    "\n",
    "mesh1 = OneDGrid(dev, n1, x1min, x1max)\n",
    "mesh2 = OneDGrid(dev, n2, x2min, x2max)\n",
    "\n",
    "fbot = DistributionFunction( mesh1, mesh2 )\n",
    "\n",
    "\n",
    "for (i,x) in enumerate(mesh1.points), (j,v) in enumerate(mesh2.points)\n",
    "    fbot.values[i,j]  = (1.0+α*cos(kx*x)) / (10*sqrt(2π)) * (9*exp(-0.5*v^2)+2*exp(-2*(v-4.5)^2))\n",
    "end\n"
   ]
  },
  {
   "cell_type": "code",
   "execution_count": null,
   "metadata": {},
   "outputs": [],
   "source": [
    "prob = VlasovProblem(fbot, BSLSpline(5), dev)\n",
    "\n",
    "sol = VlasovSolvers.solve!(prob, stepper, dt, nsteps );"
   ]
  },
  {
   "cell_type": "code",
   "execution_count": null,
   "metadata": {},
   "outputs": [],
   "source": [
    "plot(dt .* (1:nsteps), exp.(sol).^2, size=(600, 300))"
   ]
  },
  {
   "cell_type": "code",
   "execution_count": null,
   "metadata": {},
   "outputs": [],
   "source": []
  },
  {
   "cell_type": "markdown",
   "metadata": {},
   "source": [
    "# Comparison of quadratures on Bump on Tail"
   ]
  },
  {
   "cell_type": "code",
   "execution_count": null,
   "metadata": {},
   "outputs": [],
   "source": [
    "dev = CPU()\n",
    "\n",
    "nstep = 2000\n",
    "dt = 0.05\n",
    "\n",
    "nx = 32\n",
    "nv = 64\n",
    "\n",
    "vmax = 9.\n",
    "\n",
    "meshx = OneDGrid(dev, nx, 0, L);\n",
    "meshv = OneDGrid(dev, nv, -vmax, vmax);\n",
    "gsl  = zeros(Complex{Float64}, (nx,nv));\n",
    "\n",
    "\n",
    "rules = [RectangleRule, TrapezoidalRule, GaussLegendreRule, GaussRadauRule, GaussLobattoRule, KronrodRule]\n",
    "t = (1:nstep) .* dt\n",
    "\n",
    "\n",
    "for quadX = rules, quadV = rules\n",
    "    quadrulex = quadX(nx, 0, L);\n",
    "    quadrulev = quadV(nv, -vmax, vmax);\n",
    "\n",
    "    @. gsl = f.(meshx.points, meshv.points');\n",
    "    E_elecsl, E_totsl, _, animationsl = solve_SL!(nstep, dt, gsl, meshx, meshv, kx; plotting=false);\n",
    "    E_elec, E_tot, animation, X, V, F = generalized_SL(nstep, dt, quadrulex, quadrulev, kx, f, plotting=plotornot);\n",
    "\n",
    "    plot(t, E_elec, label=L\"E_{elec},\\quad dt=\"*\"$(dt)\", legend=:outertopright, minorgrid=true, size=(400, 200).*2)\n",
    "    plot!(t, E_elecsl, label=L\"E_{elec, SL},\\quad dt=\"*\"$(dt)\", legend=:outertopright, minorgrid=true)\n",
    "\n",
    "    title!(castest * \"\\n($(quadX)($(nx)), $(quadV)($(nv)))\")\n",
    "    xlabel!(\"t\")\n",
    "    savefig(\"/Users/ylehenaf/Documents/latex/imgs/methode_carac/comparison_quadratures/$(quadX)_$(quadV).png\")\n",
    "end\n"
   ]
  },
  {
   "cell_type": "code",
   "execution_count": null,
   "metadata": {},
   "outputs": [],
   "source": []
  }
 ],
 "metadata": {
  "kernelspec": {
   "display_name": "Julia 1.7.0",
   "language": "julia",
   "name": "julia-1.7"
  },
  "language_info": {
   "file_extension": ".jl",
   "mimetype": "application/julia",
   "name": "julia",
   "version": "1.7.0"
  }
 },
 "nbformat": 4,
 "nbformat_minor": 2
}
