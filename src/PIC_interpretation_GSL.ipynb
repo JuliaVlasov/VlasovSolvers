{
 "cells": [
  {
   "cell_type": "code",
   "execution_count": null,
   "metadata": {},
   "outputs": [],
   "source": [
    "using Revise\n",
    "\n",
    "\n",
    "using LinearAlgebra, QuadGK, Roots, FFTW, FastGaussQuadrature\n",
    "using VlasovSolvers\n",
    "import VlasovSolvers: advection!\n",
    "import VlasovSolvers: samples, Particles, PIC_step!, ParticleMover, kernel_poisson!, kernel_gyrokinetic!\n",
    "using ProgressMeter\n",
    "using Plots\n",
    "# pgfplotsx()\n",
    "\n",
    "\n",
    "using LaTeXStrings"
   ]
  },
  {
   "cell_type": "markdown",
   "metadata": {},
   "source": [
    "# Quadrature rules"
   ]
  },
  {
   "cell_type": "code",
   "execution_count": null,
   "metadata": {},
   "outputs": [],
   "source": [
    "struct RectangleRule\n",
    "    len  :: Int64\n",
    "    start :: Float64\n",
    "    stop  :: Float64\n",
    "    points :: Vector{Float64}\n",
    "    weights :: Vector{Float64}\n",
    "    step :: Float64\n",
    "\n",
    "    function RectangleRule(len, start, stop)\n",
    "        points = LinRange(start, stop, len+1)[1:end-1]\n",
    "        s = step(points) \n",
    "        weights = [s for _ = 1:len]\n",
    "        new(len, start, stop, vec(points), weights, s)\n",
    "    end\n",
    "end"
   ]
  },
  {
   "cell_type": "code",
   "execution_count": null,
   "metadata": {},
   "outputs": [],
   "source": [
    "struct TrapezoidalRule\n",
    "    len  :: Int64\n",
    "    start :: Float64\n",
    "    stop  :: Float64\n",
    "    points :: Vector{Float64}\n",
    "    weights :: Vector{Float64}\n",
    "    step :: Float64\n",
    "\n",
    "    function TrapezoidalRule(len, start, stop)\n",
    "        points = LinRange(start, stop, len)[1:end]\n",
    "        s = step(points) \n",
    "        weights = [s for _ = 1:len]\n",
    "        weights[1] /= 2\n",
    "        weights[end] /= 2\n",
    "        new(len, start, stop, vec(points), weights, s)\n",
    "    end\n",
    "end"
   ]
  },
  {
   "cell_type": "code",
   "execution_count": null,
   "metadata": {},
   "outputs": [],
   "source": [
    "struct SimpsonRule\n",
    "    len  :: Int64\n",
    "    start :: Float64\n",
    "    stop  :: Float64\n",
    "    points :: Vector{Float64}\n",
    "    weights :: Vector{Float64}\n",
    "    step :: Float64\n",
    "\n",
    "    function SimpsonRule(len, start, stop)\n",
    "        # make sure the number of points is uneven\n",
    "        if len % 2 == 0\n",
    "            len += 1\n",
    "        end\n",
    "        points = LinRange(start, stop, len)\n",
    "        s = step(points) \n",
    "        weights = s/3 .* ones(len)\n",
    "        weights[2:2:end-1] .*= 4\n",
    "        weights[3:2:end-2] .*= 2\n",
    "        new(len, start, stop, vec(points), weights, s)\n",
    "    end\n",
    "end"
   ]
  },
  {
   "cell_type": "code",
   "execution_count": null,
   "metadata": {},
   "outputs": [],
   "source": [
    "struct GaussHermiteRule\n",
    "    len  :: Int64\n",
    "    start :: Float64\n",
    "    stop  :: Float64\n",
    "    points :: Array{Float64}\n",
    "    weights :: Array{Float64}\n",
    "\n",
    "    function GaussHermiteRule(len, start, stop)\n",
    "        points, weights = gausshermite(len)\n",
    "        weights .*= exp.(points.^2)\n",
    "        new(len, start, stop, points, weights)\n",
    "    end\n",
    "end"
   ]
  },
  {
   "cell_type": "code",
   "execution_count": null,
   "metadata": {},
   "outputs": [],
   "source": [
    "struct GaussLegendreRule\n",
    "    len  :: Int64\n",
    "    start :: Float64\n",
    "    stop  :: Float64\n",
    "    points :: Array{Float64}\n",
    "    weights :: Array{Float64}\n",
    "\n",
    "    function GaussLegendreRule(len, start, stop)\n",
    "        points, weights = gausslegendre(len)\n",
    "        points .+= 1\n",
    "        points .*= (stop - start) / 2\n",
    "        points .+= start\n",
    "        weights .*= (stop - start) / 2\n",
    "        new(len, start, stop, points, weights)\n",
    "    end\n",
    "end"
   ]
  },
  {
   "cell_type": "code",
   "execution_count": null,
   "metadata": {},
   "outputs": [],
   "source": [
    "struct GaussRadauRule\n",
    "    len  :: Int64\n",
    "    start :: Float64\n",
    "    stop  :: Float64\n",
    "    points :: Array{Float64}\n",
    "    weights :: Array{Float64}\n",
    "\n",
    "    function GaussRadauRule(len, start, stop)\n",
    "        points, weights = gaussradau(len)\n",
    "        points .+= 1\n",
    "        points .*= (stop - start) / 2\n",
    "        points .+= start\n",
    "        weights .*= (stop - start) / 2\n",
    "        new(len, start, stop, points, weights)\n",
    "    end\n",
    "end"
   ]
  },
  {
   "cell_type": "code",
   "execution_count": null,
   "metadata": {},
   "outputs": [],
   "source": [
    "struct GaussLobattoRule\n",
    "    len  :: Int64\n",
    "    start :: Float64\n",
    "    stop  :: Float64\n",
    "    points :: Array{Float64}\n",
    "    weights :: Array{Float64}\n",
    "\n",
    "    function GaussLobattoRule(len, start, stop)\n",
    "        points, weights = gausslobatto(len)\n",
    "        points .+= 1\n",
    "        points .*= (stop - start) / 2\n",
    "        points .+= start\n",
    "        weights .*= (stop - start) / 2\n",
    "        new(len, start, stop, points, weights)\n",
    "    end\n",
    "end"
   ]
  },
  {
   "cell_type": "code",
   "execution_count": null,
   "metadata": {},
   "outputs": [],
   "source": [
    "struct KronrodRule\n",
    "    len  :: Int64\n",
    "    start :: Float64\n",
    "    stop  :: Float64\n",
    "    points :: Vector{Float64}\n",
    "    weights :: Vector{Float64}\n",
    "    step :: Float64\n",
    "\n",
    "    function KronrodRule(len, start, stop)\n",
    "        pts, w, _ = kronrod(len)\n",
    "        weights = []\n",
    "        points = []\n",
    "        for i = 1:len\n",
    "            push!(points, pts[i])\n",
    "            push!(weights, w[i])\n",
    "            push!(points, -pts[i])\n",
    "            push!(weights, w[i])\n",
    "        end\n",
    "        push!(points, pts[end])\n",
    "        push!(weights, w[end])\n",
    "        \n",
    "        points .+= 1\n",
    "        points .*= (stop - start) / 2\n",
    "        points .+= start\n",
    "        weights .*= (stop - start) / 2\n",
    "        len = 2*len + 1\n",
    "        new(len, start, stop, points, weights)\n",
    "end\n",
    "    end"
   ]
  },
  {
   "cell_type": "code",
   "execution_count": null,
   "metadata": {},
   "outputs": [],
   "source": [
    "# Only works for rectangle and trapezoidal rules\n",
    "function projection_onto_grid!(grid_dst, meshx, meshv, X, V_, W)\n",
    "    meshxstep = meshx[2] - meshx[1]\n",
    "    meshvstep = meshv[2] - meshv[1]\n",
    "    grid_dst .= 0\n",
    "\n",
    "\n",
    "    # Periodic Boundary conditions on velocity\n",
    "    V = copy(V_)\n",
    "    V[findall(v -> v >= meshv[end],  V)] .-= meshv[end] - meshv[1]\n",
    "    V[findall(v -> v < meshv[1],  V)] .+= meshv[end] - meshv[1]\n",
    "    \n",
    "    for ipart = 1:length(X)\n",
    "        idxgridx = Int64(fld(X[ipart],            meshxstep)) + 1\n",
    "        idxgridv = Int64(fld(V[ipart] - meshv[1], meshvstep)) + 1\n",
    "        idxgridxp1 = idxgridx<length(meshx) ? idxgridx+1 : 1\n",
    "        idxgridvp1 = idxgridv<length(meshv) ? idxgridv+1 : 1\n",
    "        \n",
    "        tx = (X[ipart]             - (idxgridx-1) * meshxstep) / meshxstep\n",
    "        tv = (V[ipart] - meshv[1]  - (idxgridv-1) * meshvstep) / meshvstep\n",
    "\n",
    "        # println((idxgridv, V[ipart]))\n",
    "        grid_dst[idxgridx  , idxgridv  ] += W[ipart] * (1-tx) * (1-tv)\n",
    "        grid_dst[idxgridx  , idxgridvp1] += W[ipart] * (1-tx) * tv\n",
    "        grid_dst[idxgridxp1, idxgridvp1] += W[ipart] * tx     * tv\n",
    "        grid_dst[idxgridxp1, idxgridv  ] += W[ipart] * tx     * (1 - tv)\n",
    "    end\n",
    "end"
   ]
  },
  {
   "cell_type": "markdown",
   "metadata": {},
   "source": [
    "# SL classique"
   ]
  },
  {
   "cell_type": "code",
   "execution_count": null,
   "metadata": {},
   "outputs": [],
   "source": [
    "\"\"\"\n",
    "    hmf_poisson!(fᵗ    :: Array{Complex{Float64},2},\n",
    "                 mesh1 :: OneDGrid,\n",
    "                 mesh2 :: OneDGrid,\n",
    "                 ex    :: Array{Float64})\n",
    "\n",
    "    Compute the electric hamiltonian mean field from the\n",
    "    transposed distribution function\n",
    "\n",
    "\"\"\"\n",
    "function hmf_poisson!(fᵗ::Array{Complex{Float64},2},\n",
    "        mesh1::OneDGrid,\n",
    "        mesh2::OneDGrid,\n",
    "        ex::Array{Float64}; K=1)\n",
    "\n",
    "    n1 = mesh1.len\n",
    "    rho = mesh2.step .* vec(sum(fᵗ, dims=1)) # ≈ ∫ f(t,x_i,v)dv, i=1, ..., n1\n",
    "    kernel = zeros(Float64, n1)\n",
    "    ker = -(mesh1.stop - mesh1.start) / (2π)\n",
    "    for k=1:K\n",
    "        kernel[1+k]   =  ker / k    # fourier mode  1\n",
    "        kernel[end - (k-1)] = -ker / k    # fourier mode -1\n",
    "    end\n",
    "    ex .= real(ifft(fft(rho) .* 1im .* kernel))\n",
    "end\n",
    "\n",
    "function solve_SL!(nsteps, dt, f, mesh1, mesh2, kx; plotting=false::Bool)\n",
    "    n1, n2 = size(f)\n",
    "    fᵗ = zeros(Complex{Float64}, (n2,n1))\n",
    "    transpose!(fᵗ, f)\n",
    "\n",
    "    energy² = Array{Float64}(undef, nsteps)\n",
    "    etot² = Array{Float64}(undef, nsteps)\n",
    "    momentum = Array{Float64}(undef, nsteps)\n",
    "\n",
    "    ex = zeros(Float64, n1)\n",
    "    hmf_poisson!(fᵗ, mesh1, mesh2, ex)\n",
    "    advection!(fᵗ, mesh2, ex, 0.5dt)\n",
    "\n",
    "    progression = ProgressMeter.Progress(nsteps,desc=\"Loop in time: \", showspeed=true)\n",
    "    \n",
    "    animation = @animate for istep = 1:nsteps\n",
    "        energy²[istep] = sum(ex.^2) * mesh1.step\n",
    "        etot²[istep] = (energy²[istep] + sum(mesh2.points'.^2 .* real(f)) * mesh1.step * mesh2.step) / 2\n",
    "        momentum[istep] = sum(sum(real(f), dims=1) .* mesh2.points) * mesh1.step * mesh2.step\n",
    "    \n",
    "        advection!(f, mesh1, mesh2.points, dt)\n",
    "        transpose!(fᵗ, f)\n",
    "        hmf_poisson!(fᵗ, mesh1, mesh2, ex)\n",
    "        advection!(fᵗ, mesh2, ex, dt)\n",
    "        transpose!(f, fᵗ) \n",
    "        \n",
    "        if plotting\n",
    "            plot(mesh1.points, mesh2.points, real(f)', size=(500, 500), st=:surface, camera=(0, 90))\n",
    "            title!(\"Progression: $(round(Int64,100*progression.counter / progression.n))%\")\n",
    "        end\n",
    "        \n",
    "        ProgressMeter.next!(progression)\n",
    "    end when plotting\n",
    "    if plotting\n",
    "        return sqrt.(energy²), sqrt.(etot²), momentum, ex, animation\n",
    "    else\n",
    "        return sqrt.(energy²), sqrt.(etot²), momentum, ex, nothing\n",
    "    end\n",
    "end"
   ]
  },
  {
   "cell_type": "markdown",
   "metadata": {},
   "source": [
    "# PIC solver"
   ]
  },
  {
   "cell_type": "code",
   "execution_count": null,
   "metadata": {},
   "outputs": [],
   "source": [
    "function solve_PIC!(nsteps, dt, particles, meshx, kx; plotting=false::Bool, kernel=kernel_poisson!)\n",
    "    energy_elec² = Array{Float64}(undef, nsteps)\n",
    "    energy_tot²= Array{Float64}(undef, nsteps)\n",
    "    momentum = Array{Float64}(undef, nsteps)\n",
    "\n",
    "    L = meshx.stop\n",
    "    np = particles.nbpart\n",
    "\n",
    "    pmover = ParticleMover(particles, meshx, kx, 1, dt)\n",
    "\n",
    "    if plotting\n",
    "        widthx = -(-)(extrema(quadrulex.points)...)\n",
    "        widthv = -(-)(extrema(quadrulev.points)...)\n",
    "        scale = 25\n",
    "    end\n",
    "    \n",
    "    progression = ProgressMeter.Progress(nsteps, desc=\"Loop in time: \", showspeed=true)\n",
    "    animation = @animate for istep = 1:nsteps\n",
    "        if plotting\n",
    "            scale = 25\n",
    "            plot(vec(p.x), vec(p.v), vec(p.wei), seriestype=:scatter, markersize=sqrt(widthx * widthv * scale^2  / (nx*nv) / π), camera=(0, 90), markerstrokecolor=\"white\", markerstrokewidth=0, label=\"\", zcolor=vec(p.wei), c=:rainbow,aspect_ratio=:equal, size=(widthx, widthv).*scale)\n",
    "            title!(\"Progression: $(round(Int64,100*progression.counter / progression.n))%\")\n",
    "        end\n",
    "\n",
    "        eelec², mom, etot² = PIC_step!(p, pmover; kernel=kernel)\n",
    "        energy_elec²[istep] = eelec²\n",
    "        momentum[istep] = mom\n",
    "        energy_tot²[istep] = etot² \n",
    "        \n",
    "        ProgressMeter.next!(progression)\n",
    "    end when plotting\n",
    "    if !plotting\n",
    "        animation = nothing\n",
    "    end\n",
    "    return sqrt.(energy_elec²), momentum, sqrt.(energy_tot²), animation\n",
    "end"
   ]
  },
  {
   "cell_type": "markdown",
   "metadata": {},
   "source": [
    "# INPUTS"
   ]
  },
  {
   "cell_type": "markdown",
   "metadata": {},
   "source": [
    "## Landau damping"
   ]
  },
  {
   "cell_type": "code",
   "execution_count": null,
   "metadata": {},
   "outputs": [],
   "source": [
    "kx = 0.5\n",
    "L = 2π / kx\n",
    "ϵ = 0.001\n",
    "μ = 0.5\n",
    "β = 1.0\n",
    "f(x,v) = (1 + ϵ * cos(kx*x)) * exp(-β * (v-μ)^2 / 2) / √(2π/β) #+ exp(-((x-L/2)^2 + (v-5)^2) / (2 * 0.1)) + (1 <= x <= 2) * (-7 <= v <= -5)\n",
    "castest = \"Landau damping\\n(kx, ϵ, μ, β) = $((kx, ϵ, μ, β)))\""
   ]
  },
  {
   "cell_type": "markdown",
   "metadata": {},
   "source": [
    "## Two-Stream Instability"
   ]
  },
  {
   "cell_type": "markdown",
   "metadata": {},
   "source": [
    "### Première version"
   ]
  },
  {
   "cell_type": "code",
   "execution_count": null,
   "metadata": {},
   "outputs": [],
   "source": [
    "kx = 0.2\n",
    "L = 2π / kx\n",
    "ϵ = -0.001\n",
    "β₁ = 1\n",
    "β₂ = 1\n",
    "v0 = 2.4\n",
    "μ₁ =  v0\n",
    "μ₂ = -v0\n",
    "f(x,v) = (1 + ϵ * cos(kx * x)) * (exp(-β₁*(v-μ₁)^2 / 2) + exp(-β₁*(v-μ₂)^2 / 2)) / (√(2π)) * 0.5\n",
    "castest = \"TSI\\n(kx, β₁, β₂, μ₁, μ₂) = $((kx, β₁, β₂, μ₁, μ₂))\""
   ]
  },
  {
   "cell_type": "markdown",
   "metadata": {},
   "source": [
    "### Seconde version"
   ]
  },
  {
   "cell_type": "code",
   "execution_count": null,
   "metadata": {},
   "outputs": [],
   "source": [
    "kx = 0.2\n",
    "L = 2π / kx\n",
    "ϵ = -0.05\n",
    "β = 1\n",
    "μ =  0\n",
    "f(x,v) = (1 + ϵ * cos(kx * x)) * v^2 * exp(-β*(v-μ)^2 / 2) / (√(2π))\n",
    "castest = \"TSI\\n(kx, β, μ) = $((kx, β, μ))\""
   ]
  },
  {
   "cell_type": "markdown",
   "metadata": {},
   "source": [
    "## Bump-on-Tail"
   ]
  },
  {
   "cell_type": "code",
   "execution_count": null,
   "metadata": {},
   "outputs": [],
   "source": [
    "kx = 0.2\n",
    "L = 2π / kx\n",
    "ϵ = 0.05\n",
    "β₁ = 1\n",
    "β₂ = 4\n",
    "μ₁ = 0\n",
    "μ₂ = 4.5\n",
    "nb = 0.2\n",
    "np = 0.9\n",
    "f(x,v) = (1 + ϵ * cos(kx*x)) * (np*exp(-β₁*(v-μ₁)^2 /2) + nb*exp(-β₂*(v-μ₂)^2 / 2)) / √(2π)\n",
    "castest = \"Bump on tail\\n(kx, ϵ, β₁, β₂, μ₁, μ₂, nb, np) = $((kx, ϵ, β₁, β₂, μ₁, μ₂, nb, np))\""
   ]
  },
  {
   "cell_type": "markdown",
   "metadata": {},
   "source": [
    "## Strong Landau Damping"
   ]
  },
  {
   "cell_type": "code",
   "execution_count": null,
   "metadata": {},
   "outputs": [],
   "source": [
    "kx = 0.5\n",
    "L = 2π / kx\n",
    "ϵ = 0.5\n",
    "β = 1.0\n",
    "μ = 0.0\n",
    "f(x,v) = (1 + ϵ * cos(kx*x)) * exp(-β * v^2 / 2) / √(2π/β)\n",
    "castest = \"Strong Landau damping\\n(kx, ϵ, μ, β) = $((kx, ϵ, μ, β)))\""
   ]
  },
  {
   "cell_type": "markdown",
   "metadata": {},
   "source": [
    "# Inputs indépendants du cas test"
   ]
  },
  {
   "cell_type": "code",
   "execution_count": null,
   "metadata": {},
   "outputs": [],
   "source": [
    "dev = CPU()\n",
    "\n",
    "nstep = 1000\n",
    "dt = 0.1\n",
    "\n",
    "nx = 128\n",
    "nv = 129\n",
    "\n",
    "vmax = 9.\n",
    "\n",
    "meshx = OneDGrid(dev, nx, 0, L);\n",
    "meshv = OneDGrid(dev, nv, -vmax, vmax);\n",
    "\n",
    "quadX = RectangleRule\n",
    "quadV = RectangleRule\n",
    "\n",
    "quadrulex = quadX(nx, 0, L);\n",
    "quadrulev = quadV(nv, -vmax, vmax);\n",
    "# quadrulev = quadV(nv, μ - 5/√β, μ + 5/√β)\n",
    "\n",
    "\n",
    "T = NaN;"
   ]
  },
  {
   "cell_type": "code",
   "execution_count": null,
   "metadata": {},
   "outputs": [],
   "source": [
    "gridv = -vmax:0.01:vmax\n",
    "\n",
    "ex_quadrulev = quadV(nv, -vmax, vmax);\n",
    "ex_quadrulev2 = quadV(nv, μ - 5/√β, μ + 5/√β)\n",
    "ex_quadrulev3 = quadV(nv, μ - 4/√β, μ + 4/√β)\n",
    "\n",
    "plot(gridv, f.(π/2, gridv))\n",
    "plot!(ex_quadrulev.points, zeros(ex_quadrulev.len) .+ 0.01, seriestype=:scatter, markerstrokewidth=0, label=\"grille totale\")\n",
    "plot!(ex_quadrulev2.points, zeros(ex_quadrulev2.len) .+ 0.025, seriestype=:scatter, markerstrokewidth=0, label=\"±5σ\")\n",
    "plot!(ex_quadrulev3.points, zeros(ex_quadrulev3.len) .+ 0.040, seriestype=:scatter, markerstrokewidth=0, label=\"±4σ\")"
   ]
  },
  {
   "cell_type": "code",
   "execution_count": null,
   "metadata": {},
   "outputs": [],
   "source": [
    "gr() \n",
    "plot(quadrulex.points, quadrulev.points', f.(quadrulex.points, quadrulev.points')', st=:surface, camera=(80, 30))\n",
    "xlabel!(\"x\")\n",
    "ylabel!(\"v\")\n",
    "# savefig(\"gif/gyrokinetic_example.png\")"
   ]
  },
  {
   "cell_type": "markdown",
   "metadata": {},
   "source": [
    "# Simulations"
   ]
  },
  {
   "cell_type": "code",
   "execution_count": null,
   "metadata": {},
   "outputs": [],
   "source": [
    "gsl  = zeros(Complex{Float64}, (nx,nv));\n",
    "@. gsl = f.(meshx.points, meshv.points');\n",
    "@time E_elecsl, E_totsl, momentumsl, _, animationsl = solve_SL!(nstep, dt, gsl, meshx, meshv, kx; plotting=false);"
   ]
  },
  {
   "cell_type": "code",
   "execution_count": null,
   "metadata": {},
   "outputs": [],
   "source": [
    "# gif(animationsl, \"animationsl.gif\")"
   ]
  },
  {
   "cell_type": "markdown",
   "metadata": {},
   "source": [
    "# PIC interpretation"
   ]
  },
  {
   "cell_type": "code",
   "execution_count": null,
   "metadata": {},
   "outputs": [],
   "source": [
    "npgsl = nx*nv\n",
    "x0 = vec(repeat(quadrulex.points, 1, quadrulev.len)) \n",
    "v0 = vec(repeat(quadrulev.points', quadrulex.len, 1))\n",
    "wei = vec(f.(quadrulex.points, quadrulev.points') .* quadrulex.weights .* quadrulev.weights')\n",
    "p = Particles(x0, v0, wei, npgsl);\n",
    "@time E_eleccarac, momentumcarac, E_totcarac, animationcarac = solve_PIC!(nstep, dt, p, meshx, kx, plotting=false; kernel=kernel_poisson!);"
   ]
  },
  {
   "cell_type": "code",
   "execution_count": null,
   "metadata": {},
   "outputs": [],
   "source": [
    "if animationcarac != nothing\n",
    "    gif(animationcarac, \"gif/gyrokinetic_example.mp4\");\n",
    "end"
   ]
  },
  {
   "cell_type": "markdown",
   "metadata": {},
   "source": [
    "# Classical PIC"
   ]
  },
  {
   "cell_type": "code",
   "execution_count": null,
   "metadata": {},
   "outputs": [],
   "source": [
    "np = Int64(2e5)\n",
    "(x0, y0, wei) = samples(np, kx, ϵ, μ, β)\n",
    "p = Particles(x0, y0, wei, np);\n",
    "@time E_elecpic, momentumpic, E_totpic, animation = solve_PIC!(nstep, dt, p, meshx, kx;plotting=false);"
   ]
  },
  {
   "cell_type": "markdown",
   "metadata": {},
   "source": [
    "# Plots"
   ]
  },
  {
   "cell_type": "code",
   "execution_count": null,
   "metadata": {},
   "outputs": [],
   "source": [
    "t = (1:nstep) .* dt\n",
    "\n",
    "# energies\n",
    "# plot(t .+ dt, E_elec, label=L\"E_{elec, carac},\\quad dt=\"*\"$(dt)\", legend=:outertopright, minorgrid=true, size=(400, 200).*2)\n",
    "# plot!(t, E_elecsl, label=L\"E_{elec, SL},\\quad dt=\"*\"$(dt)\", ls=:dash)\n",
    "# plot!(t .+ dt, E_elec2, label=L\"E_{elec, carac, refined},\\quad dt=\"*\"$(dt)\")\n",
    "# plot!(t, energy_hamil_elec_gsl, label=L\"E_{elec, PIC charac},\\quad dt=\"*\"$(dt)\")\n",
    "# plot!(t, energy_hamil_elec, label=L\"E_{elec, PIC},\\quad dt=\"*\"$(dt)\")\n",
    "# plot!(t, E_tot, label=L\"E_{tot}\", scaley=:log10)\n",
    "\n",
    "# log(Energies)\n",
    "plot(legend=:top, minorgrid=true, size=(800, 400))\n",
    "plot!(t .+ dt, log.(E_eleccarac), label=L\"\\log(E_{elec, carac}),\\quad dt=\"*\"$(dt)\")\n",
    "plot!(t, log.(E_elecsl), label=L\"\\log(E_{elec, SL}),\\quad dt=\"*\"$(dt)\", ls=:dash, lw=1)\n",
    "# plot!(t, log.(E_tot),       label=L\"\\log(E_{tot}),\\quad dt=\"*\"$(dt)\")\n",
    "# plot!(t, log.(E_elecpic), label=L\"$\\log(E_{elec, PIC}),\\quad$ dt=\"*\"$(dt), \"* L\"$n_p$ =\"*\"$(np)\", ls=:dot)\n",
    "# plot!(t, log.(energy_from_projection), label=L\"\\log(E_{pic, PIC}),\\quad dt=\"*\"$(dt)\")\n",
    "# plot!(t, log.(energy_elec_from_phi), label=L\"\\log(E_{from\\,\\Phi, PIC}),\\quad dt=\"*\"$(dt)\")\n",
    "\n",
    "\n",
    "# ============== #\n",
    "\n",
    "# Landau damping (kx=0.5):\n",
    "# plot!(x->-0.1533x - 5.6, label=\"Damping attendu (-0.1533)\")\n",
    "# E_th = abs.(4ϵ * 0.3677 .* exp.(−0.1533 .* t) .* cos.(1.4156.*t .−0.5326245)) * sqrt(L/2)\n",
    "# plot!(t, log.(E_th),label=\"Energie theorique\")\n",
    "# Landau damping (kx=0.4):\n",
    "# plot!(x->-0.0661x - 5.3, label=\"Damping attendu (-0.0661)\")\n",
    "# E_th = 0.002.*0.42466.*abs.(cos.(1.285.*t .-0.33577)).*exp.(-0.0661.*t) # expression du bouquin, pas correcte\n",
    "# E_th = abs.(4*ϵ*0.424666*exp.(-0.0661 .* t) .* cos.(1.2850 .* t .- 0.3357725) * sqrt(L/2)) # issue des calculs du bouquin en calculant correctement √(∫sin(0.5x)^2dx)\n",
    "# plot!(t, log.(E_th),label=\"Energie theorique\", ls=:dashdotdot)\n",
    "\n",
    "# TSI (k,v0) = (0.2, 1.3):\n",
    "# plot!(t, -0.001t .- 4.2, label=L\"y=0.001t - 5.0\")\n",
    "# TSI (k,v0) = (0.2, 2.4):\n",
    "# plot!(t, 0.2258t .- 6.4, label=L\"y=0.2258t - 8.4\")\n",
    "# TSI (k,v0) = (0.2, 3):\n",
    "# plot!(t, 0.2845t .- 6.1, label=L\"y=0.2845t - 8.2\")\n",
    "\n",
    "# Strong Landau damping\n",
    "# plot!(t, -0.285473t .+ 1, label=L\"y=-0.285473t + 1\")\n",
    "# plot!(t, 0.086671t .- 3.7, label=L\"y=0.086671t - 3.7\")\n",
    "\n",
    "title!(castest * \"\\n($(quadX)($(nx)), $(quadV)($(nv)))\")\n",
    "# xlabel!(\"t (T=$(T))\")\n",
    "xlabel!(\"time\")"
   ]
  },
  {
   "cell_type": "code",
   "execution_count": null,
   "metadata": {},
   "outputs": [],
   "source": [
    "fn = \"methode_carac/test_pgfplots\"\n",
    "savefig(\"/Users/ylehenaf/Documents/latex/imgs/tex/$(fn).tikz\")"
   ]
  },
  {
   "cell_type": "markdown",
   "metadata": {},
   "source": [
    "# Plot annotations"
   ]
  },
  {
   "cell_type": "code",
   "execution_count": null,
   "metadata": {},
   "outputs": [],
   "source": [
    "p = 2π / 1.4156\n",
    "vline!(vcat([4 + i*p for i=0:4], [49.5 + i*p for i=0:3]), label=\"\")\n",
    "# vline!([28.1 + i*p for i=-4:0], label=\"\")"
   ]
  },
  {
   "cell_type": "code",
   "execution_count": null,
   "metadata": {},
   "outputs": [],
   "source": [
    "plot!([49.5, 49.5+p], [-10, -10], arrow=arrow(:closed, :both), label=\"\")\n",
    "annotate!((51.5, -10.3, text(L\"\\frac{2\\pi}{1.4156}\", :top, 10)))"
   ]
  },
  {
   "cell_type": "markdown",
   "metadata": {},
   "source": [
    "# Quantités conservatives (SL Généralisé)"
   ]
  },
  {
   "cell_type": "markdown",
   "metadata": {},
   "source": [
    "## Variation d'énergie totale"
   ]
  },
  {
   "cell_type": "code",
   "execution_count": null,
   "metadata": {},
   "outputs": [],
   "source": [
    "p11 = plot(t, E_totcarac, label=\"\", minorgrid=true)\n",
    "title!(p11, \"Énergie totale (carac)\")\n",
    "p12 = plot(t, (E_totcarac .- E_totcarac[1]) ./ E_totcarac[1], label=\"\", minorgrid=true)\n",
    "title!(p12, \"Relative (carac)\")\n",
    "p21 = plot(t, E_totsl, label=\"\", minorgrid=true)\n",
    "title!(p21, \"Énergie totale (SL)\")\n",
    "p22 = plot(t, (E_totsl .- E_totsl[1]) ./ E_totsl[1], label=\"\", minorgrid=true)\n",
    "title!(p22, \"Relative (SL)\")\n",
    "p=plot(p11, p12, p21, p22, size=(800, 600), layout=(2, 2))"
   ]
  },
  {
   "cell_type": "code",
   "execution_count": null,
   "metadata": {},
   "outputs": [],
   "source": [
    "p11 = plot(t, E_totpic, label=\"\")\n",
    "title!(p11, \"Énergie totale (PIC)\")\n",
    "p12 = plot(t, (E_totpic .- E_totpic[1]) ./ E_totpic[1], label=\"\")\n",
    "title!(p12, \"Relative (PIC)\")\n",
    "p=plot(p11, p12, size=(800, 600), layout=(2, 1))"
   ]
  },
  {
   "cell_type": "markdown",
   "metadata": {},
   "source": [
    "## Variations du moment"
   ]
  },
  {
   "cell_type": "code",
   "execution_count": null,
   "metadata": {},
   "outputs": [],
   "source": [
    "p11 = plot(t, momentumcarac, label=\"\", minorgrid=true)\n",
    "title!(p11, \"Momentum (carac)\")\n",
    "p12 = plot(t, (momentumcarac .- momentumcarac[1]) ./ momentumcarac[1], label=\"\", minorgrid=true)\n",
    "title!(p12, \"Relatif (carac)\")\n",
    "p21 = plot(t, momentumsl, label=\"\", minorgrid=true)\n",
    "title!(p21, \"Momentum (SL)\")\n",
    "p22 = plot(t, (momentumsl .- momentumsl[1]) ./ momentumsl[1], label=\"\", minorgrid=true)\n",
    "title!(p22, \"Relatif (SL)\")\n",
    "p=plot(p11, p12, p21, p22, size=(800, 600), layout=(2, 2))"
   ]
  },
  {
   "cell_type": "code",
   "execution_count": null,
   "metadata": {},
   "outputs": [],
   "source": [
    "p1 = plot(t, momentumpic, label=\"\", minorgrid=true)\n",
    "title!(p1, \"Momentum (PIC)\")\n",
    "p2 = plot(t, (momentumpic .- momentumpic[1]) ./ momentumpic[1], label=\"\", minorgrid=true)\n",
    "title!(p2, \"Relative (PIC)\")\n",
    "p=plot(p1, p2, size=(800, 600), layout=(2, 1))"
   ]
  },
  {
   "cell_type": "markdown",
   "metadata": {},
   "source": [
    "# Comparison with VlasovSolver's Bump on tail"
   ]
  },
  {
   "cell_type": "code",
   "execution_count": null,
   "metadata": {},
   "outputs": [],
   "source": [
    "using VlasovSolvers\n",
    "using Plots\n",
    "using LaTeXStrings"
   ]
  },
  {
   "cell_type": "code",
   "execution_count": null,
   "metadata": {},
   "outputs": [],
   "source": [
    "dev = CPU()                  # device\n",
    "stepper = StrangSplitting()  # timestepper\n",
    "dt = 0.05                     # timestep\n",
    "nsteps = 8000                # total number of time-steps\n",
    "\n",
    "α   = 0.04\n",
    "kx  = 0.3\n",
    "\n",
    "n1, n2 = 32, 64\n",
    "x1min, x1max = 0.0, 20π\n",
    "x2min, x2max = -9., 9.\n",
    "\n",
    "mesh1 = OneDGrid(dev, n1, x1min, x1max)\n",
    "mesh2 = OneDGrid(dev, n2, x2min, x2max)\n",
    "\n",
    "fbot = DistributionFunction( mesh1, mesh2 )\n",
    "\n",
    "\n",
    "for (i,x) in enumerate(mesh1.points), (j,v) in enumerate(mesh2.points)\n",
    "    fbot.values[i,j]  = (1.0+α*cos(kx*x)) / (10*sqrt(2π)) * (9*exp(-0.5*v^2)+2*exp(-2*(v-4.5)^2))\n",
    "end\n"
   ]
  },
  {
   "cell_type": "code",
   "execution_count": null,
   "metadata": {},
   "outputs": [],
   "source": [
    "prob = VlasovProblem(fbot, BSLSpline(5), dev)\n",
    "\n",
    "sol = VlasovSolvers.solve!(prob, stepper, dt, nsteps );"
   ]
  },
  {
   "cell_type": "code",
   "execution_count": null,
   "metadata": {},
   "outputs": [],
   "source": [
    "plot(dt .* (1:nsteps), exp.(sol).^2, size=(600, 300))"
   ]
  },
  {
   "cell_type": "code",
   "execution_count": null,
   "metadata": {},
   "outputs": [],
   "source": []
  },
  {
   "cell_type": "markdown",
   "metadata": {},
   "source": [
    "# Comparison of quadratures on Bump on Tail"
   ]
  },
  {
   "cell_type": "code",
   "execution_count": null,
   "metadata": {},
   "outputs": [],
   "source": [
    "dev = CPU()\n",
    "\n",
    "nstep = 2000\n",
    "dt = 0.05\n",
    "\n",
    "nx = 32\n",
    "nv = 64\n",
    "\n",
    "vmax = 9.\n",
    "\n",
    "meshx = OneDGrid(dev, nx, 0, L);\n",
    "meshv = OneDGrid(dev, nv, -vmax, vmax);\n",
    "gsl  = zeros(Complex{Float64}, (nx,nv));\n",
    "\n",
    "\n",
    "rules = [RectangleRule, TrapezoidalRule, GaussHermiteRule, GaussLegendreRule, GaussRadauRule, GaussLobattoRule, KronrodRule]\n",
    "t = (1:nstep) .* dt\n",
    "\n",
    "\n",
    "for quadX = rules, quadV = rules\n",
    "    quadrulex = quadX(nx, 0, L);\n",
    "    quadrulev = quadV(nv, -vmax, vmax);\n",
    "\n",
    "    @. gsl = f.(meshx.points, meshv.points');\n",
    "    E_elecsl, E_totsl, _, animationsl = solve_SL!(nstep, dt, gsl, meshx, meshv, kx; plotting=false);\n",
    "    E_elec, E_tot, animation, X, V, F = generalized_SL(nstep, dt, quadrulex, quadrulev, kx, f, plotting=plotornot);\n",
    "\n",
    "    plot(t, E_elec, label=L\"E_{elec},\\quad dt=\"*\"$(dt)\", legend=:outertopright, minorgrid=true, size=(400, 200).*2)\n",
    "    plot!(t, E_elecsl, label=L\"E_{elec, SL},\\quad dt=\"*\"$(dt)\", legend=:outertopright, minorgrid=true)\n",
    "\n",
    "    title!(castest * \"\\n($(quadX)($(nx)), $(quadV)($(nv)))\")\n",
    "    xlabel!(\"t\")\n",
    "    savefig(\"/Users/ylehenaf/Documents/latex/imgs/methode_carac/comparison_quadratures/$(quadX)_$(quadV).png\")\n",
    "end\n",
    "println(\"Fini\")"
   ]
  },
  {
   "cell_type": "markdown",
   "metadata": {},
   "source": [
    "# Divers"
   ]
  },
  {
   "cell_type": "code",
   "execution_count": null,
   "metadata": {},
   "outputs": [],
   "source": [
    "ptsX = TrapezoidalRule(32, 0, L);\n",
    "ptsV = GaussHermiteRule(32, -vmax, vmax);\n",
    "scatter(repeat(ptsX.points, 1, 32), repeat(ptsV.points', 32, 1), label=\"\")\n",
    "# for x = ptsX.points, v = ptsV.points\n",
    "#     sc((x, v))\n",
    "# end\n",
    "title!(\"pts quadrature\")"
   ]
  },
  {
   "cell_type": "markdown",
   "metadata": {},
   "source": [
    "interpolation 2D (NUFFT)\n",
    "\n",
    "euler 2D\n",
    "\n",
    "approximation sparse d'une somme (hyperbolic cross)\n",
    "\n",
    "HMF 4D (2Dx * 2Dv)\n",
    "\n",
    "Conservation énergie globale après discrétisation du schéma"
   ]
  },
  {
   "cell_type": "markdown",
   "metadata": {},
   "source": [
    "## Projection onto grid / Interpolation"
   ]
  },
  {
   "cell_type": "code",
   "execution_count": null,
   "metadata": {},
   "outputs": [],
   "source": [
    "E_elec, E_tot, momentum, l2norm, animation, X, V, F = generalized_SL(50, dt, quadrulex, quadrulev, kx, f; plotting=false);"
   ]
  },
  {
   "cell_type": "code",
   "execution_count": null,
   "metadata": {},
   "outputs": [],
   "source": [
    "spline_proj = Dierckx.Spline2D(X, V, vec(f.(quadrulex.points, quadrulev.points')); s=1e-5);\n",
    "grid_proj = evalgrid(spline_proj, quadrulex.points, quadrulev.points);"
   ]
  },
  {
   "cell_type": "code",
   "execution_count": null,
   "metadata": {},
   "outputs": [],
   "source": [
    "plot(quadrulex.points, quadrulev.points, grid_proj', st=:surface, camera=(0, 90))"
   ]
  },
  {
   "cell_type": "code",
   "execution_count": null,
   "metadata": {},
   "outputs": [],
   "source": []
  },
  {
   "cell_type": "markdown",
   "metadata": {},
   "source": [
    "## Visualisation des points de quadrature"
   ]
  },
  {
   "cell_type": "code",
   "execution_count": null,
   "metadata": {},
   "outputs": [],
   "source": [
    "fv(v) = f(π/2, v)\n",
    "plot(fv, -vmax, vmax)\n",
    "quadrulev1 = quadV(Int(fld(nv, 2)), μ₁ - 5/√β₁, μ₁ + 5/√β₁)\n",
    "scatter!(quadrulev1.points, zeros(quadrulev1.len) .+ 0.05, strokecolor=0)\n",
    "quadrulev2 = quadV(Int(fld(nv, 2)), μ₂ - 5/√β₂, μ₂ + 5/√β₂)\n",
    "scatter!(quadrulev2.points, zeros(quadrulev2.len) .+ 0.1, strokecolor=0)\n",
    "\n",
    "quadrulevref = quadV(nv, -vmax, vmax)\n",
    "scatter!(quadrulevref.points, zeros(quadrulevref.len), strokecolor=0)"
   ]
  },
  {
   "cell_type": "code",
   "execution_count": null,
   "metadata": {},
   "outputs": [],
   "source": [
    "abs(sum(fv.(quadrulev.points) .* quadrulev.weights)-1), abs(sum(fv.(newquadrulev.points) .* newquadrulev.weights)-1)"
   ]
  },
  {
   "cell_type": "code",
   "execution_count": null,
   "metadata": {},
   "outputs": [],
   "source": [
    "E_eleccarac"
   ]
  },
  {
   "cell_type": "code",
   "execution_count": null,
   "metadata": {},
   "outputs": [],
   "source": []
  }
 ],
 "metadata": {
  "kernelspec": {
   "display_name": "Julia 1.7.0",
   "language": "julia",
   "name": "julia-1.7"
  },
  "language_info": {
   "file_extension": ".jl",
   "mimetype": "application/julia",
   "name": "julia",
   "version": "1.7.0"
  }
 },
 "nbformat": 4,
 "nbformat_minor": 2
}
