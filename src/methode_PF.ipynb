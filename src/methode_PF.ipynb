{
 "cells": [
  {
   "cell_type": "code",
   "execution_count": null,
   "metadata": {},
   "outputs": [],
   "source": [
    "using Revise\n",
    "\n",
    "using LinearAlgebra, QuadGK, Roots, FFTW, FastGaussQuadrature, SpecialFunctions, FINUFFT\n",
    "using Triangulate\n",
    "using VlasovSolvers\n",
    "import VlasovSolvers: advection!\n",
    "import VlasovSolvers: samples, Particles, PIC_step!, ParticleMover, kernel_poisson!, kernel_gyrokinetic!\n",
    "\n",
    "using ProgressMeter\n",
    "using Plots, LaTeXStrings"
   ]
  },
  {
   "cell_type": "markdown",
   "metadata": {},
   "source": [
    "# Quadrature rules"
   ]
  },
  {
   "cell_type": "code",
   "execution_count": null,
   "metadata": {},
   "outputs": [],
   "source": [
    "struct RectangleRule\n",
    "    len  :: Int64\n",
    "    start :: Float64\n",
    "    stop  :: Float64\n",
    "    points :: Vector{Float64}\n",
    "    weights :: Vector{Float64}\n",
    "    step :: Float64\n",
    "\n",
    "    function RectangleRule(len, start, stop)\n",
    "        points = LinRange(start, stop, len+1)[1:end-1]\n",
    "        s = step(points) \n",
    "        weights = [s for _ = 1:len]\n",
    "        new(len, start, stop, vec(points), weights, s)\n",
    "    end\n",
    "end"
   ]
  },
  {
   "cell_type": "code",
   "execution_count": null,
   "metadata": {},
   "outputs": [],
   "source": [
    "struct TrapezoidalRule\n",
    "    len  :: Int64\n",
    "    start :: Float64\n",
    "    stop  :: Float64\n",
    "    points :: Vector{Float64}\n",
    "    weights :: Vector{Float64}\n",
    "    step :: Float64\n",
    "\n",
    "    function TrapezoidalRule(len, start, stop)\n",
    "        points = LinRange(start, stop, len)[1:end]\n",
    "        s = step(points) \n",
    "        weights = [s for _ = 1:len]\n",
    "        weights[1] /= 2\n",
    "        weights[end] /= 2\n",
    "        new(len, start, stop, vec(points), weights, s)\n",
    "    end\n",
    "end"
   ]
  },
  {
   "cell_type": "code",
   "execution_count": null,
   "metadata": {},
   "outputs": [],
   "source": [
    "struct SimpsonRule\n",
    "    len  :: Int64\n",
    "    start :: Float64\n",
    "    stop  :: Float64\n",
    "    points :: Vector{Float64}\n",
    "    weights :: Vector{Float64}\n",
    "    step :: Float64\n",
    "\n",
    "    function SimpsonRule(len, start, stop)\n",
    "        # make sure the number of points is uneven\n",
    "        if len % 2 == 0\n",
    "            len += 1\n",
    "        end\n",
    "        points = LinRange(start, stop, len)\n",
    "        s = step(points) \n",
    "        weights = s/3 .* ones(len)\n",
    "        weights[2:2:end-1] .*= 4\n",
    "        weights[3:2:end-2] .*= 2\n",
    "        new(len, start, stop, vec(points), weights, s)\n",
    "    end\n",
    "end"
   ]
  },
  {
   "cell_type": "code",
   "execution_count": null,
   "metadata": {},
   "outputs": [],
   "source": [
    "struct GaussHermiteRule\n",
    "    len  :: Int64\n",
    "    start :: Float64\n",
    "    stop  :: Float64\n",
    "    points :: Array{Float64}\n",
    "    weights :: Array{Float64}\n",
    "\n",
    "    function GaussHermiteRule(len, start, stop)\n",
    "        points, weights = gausshermite(len)\n",
    "        weights .*= exp.(points.^2)\n",
    "        new(len, start, stop, points, weights)\n",
    "    end\n",
    "end"
   ]
  },
  {
   "cell_type": "code",
   "execution_count": null,
   "metadata": {},
   "outputs": [],
   "source": [
    "struct GaussLegendreRule\n",
    "    len  :: Int64\n",
    "    start :: Float64\n",
    "    stop  :: Float64\n",
    "    points :: Array{Float64}\n",
    "    weights :: Array{Float64}\n",
    "\n",
    "    function GaussLegendreRule(len, start, stop)\n",
    "        points, weights = gausslegendre(len)\n",
    "        points .+= 1\n",
    "        points .*= (stop - start) / 2\n",
    "        points .+= start\n",
    "        weights .*= (stop - start) / 2\n",
    "        new(len, start, stop, points, weights)\n",
    "    end\n",
    "end"
   ]
  },
  {
   "cell_type": "code",
   "execution_count": null,
   "metadata": {},
   "outputs": [],
   "source": [
    "struct GaussRadauRule\n",
    "    len  :: Int64\n",
    "    start :: Float64\n",
    "    stop  :: Float64\n",
    "    points :: Array{Float64}\n",
    "    weights :: Array{Float64}\n",
    "\n",
    "    function GaussRadauRule(len, start, stop)\n",
    "        points, weights = gaussradau(len)\n",
    "        points .+= 1\n",
    "        points .*= (stop - start) / 2\n",
    "        points .+= start\n",
    "        weights .*= (stop - start) / 2\n",
    "        new(len, start, stop, points, weights)\n",
    "    end\n",
    "end"
   ]
  },
  {
   "cell_type": "code",
   "execution_count": null,
   "metadata": {},
   "outputs": [],
   "source": [
    "struct GaussLobattoRule\n",
    "    len  :: Int64\n",
    "    start :: Float64\n",
    "    stop  :: Float64\n",
    "    points :: Array{Float64}\n",
    "    weights :: Array{Float64}\n",
    "\n",
    "    function GaussLobattoRule(len, start, stop)\n",
    "        points, weights = gausslobatto(len)\n",
    "        points .+= 1\n",
    "        points .*= (stop - start) / 2\n",
    "        points .+= start\n",
    "        weights .*= (stop - start) / 2\n",
    "        new(len, start, stop, points, weights)\n",
    "    end\n",
    "end"
   ]
  },
  {
   "cell_type": "code",
   "execution_count": null,
   "metadata": {},
   "outputs": [],
   "source": [
    "struct KronrodRule\n",
    "    len  :: Int64\n",
    "    start :: Float64\n",
    "    stop  :: Float64\n",
    "    points :: Vector{Float64}\n",
    "    weights :: Vector{Float64}\n",
    "    step :: Float64\n",
    "\n",
    "    function KronrodRule(len, start, stop)\n",
    "        pts, w, _ = kronrod(len)\n",
    "        weights = []\n",
    "        points = []\n",
    "        for i = 1:len\n",
    "            push!(points, pts[i])\n",
    "            push!(weights, w[i])\n",
    "            push!(points, -pts[i])\n",
    "            push!(weights, w[i])\n",
    "        end\n",
    "        push!(points, pts[end])\n",
    "        push!(weights, w[end])\n",
    "        \n",
    "        points .+= 1\n",
    "        points .*= (stop - start) / 2\n",
    "        points .+= start\n",
    "        weights .*= (stop - start) / 2\n",
    "        len = 2*len + 1\n",
    "        new(len, start, stop, points, weights)\n",
    "end\n",
    "    end"
   ]
  },
  {
   "cell_type": "code",
   "execution_count": null,
   "metadata": {},
   "outputs": [],
   "source": [
    "# Only works for rectangle and trapezoidal rules\n",
    "function projection_onto_grid!(grid_dst, meshx, meshv, X, V_, W)\n",
    "    meshxstep = meshx[2] - meshx[1]\n",
    "    meshvstep = meshv[2] - meshv[1]\n",
    "    grid_dst .= 0\n",
    "\n",
    "\n",
    "    # Periodic Boundary conditions on velocity\n",
    "    V = copy(V_)\n",
    "    V[findall(v -> v >= meshv[end],  V)] .-= meshv[end] - meshv[1]\n",
    "    V[findall(v -> v < meshv[1],  V)] .+= meshv[end] - meshv[1]\n",
    "    \n",
    "    for ipart = 1:length(X)\n",
    "        idxgridx = Int64(fld(X[ipart],            meshxstep)) + 1\n",
    "        idxgridv = Int64(fld(V[ipart] - meshv[1], meshvstep)) + 1\n",
    "        idxgridxp1 = idxgridx<length(meshx) ? idxgridx+1 : 1\n",
    "        idxgridvp1 = idxgridv<length(meshv) ? idxgridv+1 : 1\n",
    "        \n",
    "        tx = (X[ipart]             - (idxgridx-1) * meshxstep) / meshxstep\n",
    "        tv = (V[ipart] - meshv[1]  - (idxgridv-1) * meshvstep) / meshvstep\n",
    "\n",
    "        # println((idxgridv, V[ipart]))\n",
    "        grid_dst[idxgridx  , idxgridv  ] += W[ipart] * (1-tx) * (1-tv)\n",
    "        grid_dst[idxgridx  , idxgridvp1] += W[ipart] * (1-tx) * tv\n",
    "        grid_dst[idxgridxp1, idxgridvp1] += W[ipart] * tx     * tv\n",
    "        grid_dst[idxgridxp1, idxgridv  ] += W[ipart] * tx     * (1 - tv)\n",
    "    end\n",
    "end"
   ]
  },
  {
   "cell_type": "markdown",
   "metadata": {},
   "source": [
    "# Numerical examples"
   ]
  },
  {
   "cell_type": "code",
   "execution_count": null,
   "metadata": {},
   "outputs": [],
   "source": [
    "struct LandauDamping\n",
    "    α\n",
    "    kx\n",
    "    μ\n",
    "    β\n",
    "    f0\n",
    "    shortname\n",
    "    L \n",
    "    vmin \n",
    "    vmax\n",
    "\n",
    "    function LandauDamping(alpha, kx, mu, beta; \n",
    "                            shortname=\"(Strong/Weak) Landau damping\", L=nothing, vmin=-9, vmax=9)\n",
    "        if L == nothing \n",
    "            L = 2π / kx \n",
    "        end\n",
    "        f(x,v) = (1 + alpha * cos(kx*x)) * exp(- beta * (v-mu)^2 / 2) / √(2π/beta)\n",
    "        new(alpha, kx, mu, beta, f, shortname, L, vmin, vmax)\n",
    "    end\n",
    "end\n",
    "\n",
    "\n",
    "struct TwoStreamInstability \n",
    "    α\n",
    "    kx\n",
    "    β\n",
    "    f0\n",
    "    shortname\n",
    "    L \n",
    "    vmin \n",
    "    vmax\n",
    "    v0\n",
    "\n",
    "    function TwoStreamInstability(alpha, kx, v0; \n",
    "                                    shortname=\"Two-Stream Instability\", L=nothing, vmin=-9, vmax=9)\n",
    "        if L == nothing \n",
    "            L = 2π / kx \n",
    "        end\n",
    "        f(x,v) = (1 + alpha * cos(kx*x)) * (exp(- (v-v0)^2 / 2) + exp(- (v+v0)^2 / 2)) / (2*√(2π))\n",
    "        new(alpha, kx, v0, f, shortname, L, vmin, vmax)\n",
    "    end\n",
    "end\n",
    "\n",
    "\n",
    "struct BumpOnTail \n",
    "    α\n",
    "    kx\n",
    "    μ₁\n",
    "    μ₂\n",
    "    β₁\n",
    "    β₂\n",
    "    n₁\n",
    "    n₂\n",
    "    f0\n",
    "    shortname\n",
    "    L \n",
    "    vmin \n",
    "    vmax\n",
    "\n",
    "    function BumpOnTail(alpha, kx, mu1, mu2, beta1, beta2; \n",
    "                        n1=0.9, n2=0.2, shortname=\"Bump on Tail\", L=nothing, vmin=-9, vmax=9)\n",
    "        if L == nothing \n",
    "            L = 2π / kx \n",
    "        end\n",
    "        f(x,v) = (1 + alpha * cos(kx*x)) * ((n1*exp(-beta1*(v-mu1)^2 /2) + n2*exp(-beta2*(v-mu2)^2 / 2)) / √(2π))\n",
    "        new(alpha, kx, mu1, mu2, beta1, beta2, n1, n2, f, shortname, L, vmin, vmax)\n",
    "    end\n",
    "end\n",
    "\n",
    "\n",
    "struct NonHomogeneousStationarySolution\n",
    "    α\n",
    "    kx\n",
    "    β\n",
    "    M₀\n",
    "    f0\n",
    "    shortname\n",
    "    L\n",
    "    vmin\n",
    "    vmax\n",
    "\n",
    "    function getM₀(α, β)\n",
    "        find_zero( (M) -> M - α * √(2π/β) * besseli(1, M * β) * 2, 10)\n",
    "        # 2 factor because of the definition of I₁(z) and C(t):\n",
    "        # I₁(z) = 1/π ∫_0^π exp(z cos(θ)) cos(θ) dθ\n",
    "        #       = 1/(2π) ∫_0^{2π} exp(z cos(θ)) cos(θ) dθ\n",
    "        # C(t)  = 1/π ∫_0^{2π} ∫_{-∞}^{+∞} f(t,θ,v) cos(θ) dθ dv\n",
    "        #       = 2α √(2π/β) I₁(βM₀)\n",
    "    end\n",
    "\n",
    "    function NonHomogeneousStationarySolution(alpha, kx, beta;\n",
    "                                                shortname=\"Non Homogeneous Stationary Solution\", L=nothing, \n",
    "                                                vmin=-9, vmax=9)\n",
    "        if L == nothing \n",
    "            L = 2π / kx \n",
    "        end\n",
    "        m = getM₀(alpha, beta)\n",
    "        new(alpha, kx, beta, m, (x,v) -> alpha * exp.(-beta * (v^2 / 2 - m * cos(x*kx))), shortname, L, vmin, vmax)\n",
    "    end\n",
    "end\n",
    "\n",
    "\n",
    "struct StationaryGaussian\n",
    "    α\n",
    "    kx\n",
    "    β\n",
    "    f0\n",
    "    shortname\n",
    "    L\n",
    "    vmin\n",
    "    vmax\n",
    "\n",
    "    function StationaryGaussian(alpha, kx, beta;\n",
    "                                                shortname=\"Stationary Gaussian\", L=nothing, \n",
    "                                                vmin=-9, vmax=9)\n",
    "        if L == nothing \n",
    "            L = 2π / kx \n",
    "        end\n",
    "        new(alpha, kx, beta, (x,v) -> alpha * exp.(-beta * v^2 / 2) / √(2π/beta), shortname, L, vmin, vmax)\n",
    "    end\n",
    "end\n",
    "\n",
    "\n",
    "\n",
    "example_landaudamping = LandauDamping(0.001, 0.5, 0., 1.; shortname=\"Weak Landau damping\");\n",
    "example_stronglandaudamping = LandauDamping(0.5, 0.5, 0., 1.; shortname=\"Strong Landau damping\");\n",
    "example_twostreaminstability = TwoStreamInstability(0.001, 0.2, 3.);\n",
    "example_bumpontail = BumpOnTail(0.04, 0.3, 0, 4.5, 1, 4);\n",
    "example_nonhomogeneousstationarysolution = NonHomogeneousStationarySolution(0.2, 1, 2);\n",
    "example_stationarygaussian = StationaryGaussian(0.2, 1, 1);"
   ]
  },
  {
   "cell_type": "markdown",
   "metadata": {},
   "source": [
    "# SL classique"
   ]
  },
  {
   "cell_type": "code",
   "execution_count": null,
   "metadata": {},
   "outputs": [],
   "source": [
    "\"\"\"\n",
    "    hmf_poisson!(fᵗ    :: Array{Complex{Float64},2},\n",
    "                 mesh1 :: OneDGrid,\n",
    "                 mesh2 :: OneDGrid,\n",
    "                 ex    :: Array{Float64})\n",
    "\n",
    "    Compute the electric hamiltonian mean field from the\n",
    "    transposed distribution function\n",
    "\n",
    "\"\"\"\n",
    "function hmf_poisson!(fᵗ::Array{Complex{Float64},2},\n",
    "        mesh1::OneDGrid,\n",
    "        mesh2::OneDGrid,\n",
    "        ex::Array{Float64}; K=1)\n",
    "\n",
    "    n1 = mesh1.len\n",
    "    rho = mesh2.step .* vec(sum(fᵗ, dims=1)) # ≈ ∫ f(t,x_i,v)dv, i=1, ..., n1\n",
    "    kernel = zeros(Float64, n1)\n",
    "    ker = -(mesh1.stop - mesh1.start) / (2π)\n",
    "    for k=1:K\n",
    "        kernel[1+k]   =  ker / k    # fourier mode  1\n",
    "        kernel[end - (k-1)] = -ker / k    # fourier mode -1\n",
    "    end\n",
    "    ex .= real(ifft(fft(rho) .* 1im .* kernel))\n",
    "end\n",
    "\n",
    "function solve_SL!(nsteps, dt, f, mesh1, mesh2, kx; plotting=false::Bool)\n",
    "    n1, n2 = size(f)\n",
    "    fᵗ = zeros(Complex{Float64}, (n2,n1))\n",
    "    transpose!(fᵗ, f)\n",
    "\n",
    "    results = (Eelec = Array{Float64}(undef, nsteps),\n",
    "                Etot = Array{Float64}(undef, nsteps),\n",
    "                momentum = Array{Float64}(undef, nsteps))\n",
    "\n",
    "\n",
    "    ex = zeros(Float64, n1)\n",
    "    hmf_poisson!(fᵗ, mesh1, mesh2, ex)\n",
    "    advection!(fᵗ, mesh2, ex, 0.5dt)\n",
    "\n",
    "    progression = ProgressMeter.Progress(nsteps,desc=\"Loop in time: \", showspeed=true)\n",
    "    \n",
    "    animation = @animate for istep = 1:nsteps\n",
    "        results.Eelec[istep] = sum(ex.^2) * mesh1.step\n",
    "        results.Etot[istep] = (results.Eelec[istep] + sum(mesh2.points'.^2 .* real(f)) * mesh1.step * mesh2.step) / 2\n",
    "        results.momentum[istep] = sum(sum(real(f), dims=1) .* mesh2.points) * mesh1.step * mesh2.step\n",
    "    \n",
    "        advection!(f, mesh1, mesh2.points, dt)\n",
    "        transpose!(fᵗ, f)\n",
    "        hmf_poisson!(fᵗ, mesh1, mesh2, ex)\n",
    "        advection!(fᵗ, mesh2, ex, dt)\n",
    "        transpose!(f, fᵗ) \n",
    "        \n",
    "        if plotting\n",
    "            plot(mesh1.points, mesh2.points, real(f)', size=(500, 500), st=:surface, camera=(0, 90))\n",
    "            title!(\"Progression: $(round(Int64,100*progression.counter / progression.n))%\")\n",
    "        end\n",
    "        \n",
    "        ProgressMeter.next!(progression)\n",
    "    end when plotting\n",
    "    if !plotting\n",
    "        animation = nothing\n",
    "    end\n",
    "    \n",
    "    results.Eelec .= sqrt.(results.Eelec)\n",
    "    results.Etot .= sqrt.(results.Etot)\n",
    "    \n",
    "    return results, animation\n",
    "end"
   ]
  },
  {
   "cell_type": "markdown",
   "metadata": {},
   "source": [
    "# PIC solver"
   ]
  },
  {
   "cell_type": "code",
   "execution_count": null,
   "metadata": {},
   "outputs": [],
   "source": [
    "function solve_PIC!(nsteps, dt, particles, meshx, example, weights; plotting=false::Bool, kernel=kernel_poisson!, T=NaN)\n",
    "    init_pos = copy(p.x)\n",
    "    init_vel = copy(p.v)\n",
    "\n",
    "    results = (Eelec = Array{Float64}(undef, nsteps),\n",
    "                Etot = Array{Float64}(undef, nsteps),\n",
    "                momentum = Array{Float64}(undef, nsteps),\n",
    "                C = Array{Float64}(undef, nsteps),\n",
    "                S = Array{Float64}(undef, nsteps))\n",
    "\n",
    "    np = particles.nbpart\n",
    "\n",
    "    pmover = ParticleMover(particles, meshx, 1, dt; example.kx)\n",
    "\n",
    "    if plotting\n",
    "        widthx = -(-)(extrema(quadrulex.points)...)\n",
    "        widthv = -(-)(extrema(quadrulev.points)...)\n",
    "        scale = 0.7\n",
    "    end\n",
    "    \n",
    "    progression = ProgressMeter.Progress(nsteps, desc=\"Loop in time: \", showspeed=true)\n",
    "    animation = @animate for istep = 1:nsteps\n",
    "        if plotting\n",
    "            # plot(vec(p.x), vec(p.v), vec(p.wei), seriestype=:scatter, markersize=sqrt(widthx * widthv * scale^2  / (nx*nv) / π), camera=(0, 90), markerstrokecolor=\"white\", markerstrokewidth=0, label=\"\", zcolor=vec(p.wei), c=:rainbow,aspect_ratio=:equal, size=(widthx, widthv).*scale)\n",
    "            plot(vec(p.x), vec(p.v), seriestype=:scatter, markersize=sqrt(600*600 / (nx*nv) / π) * scale, camera=(0, 90), markerstrokecolor=\"white\", markerstrokewidth=0, label=\"\", zcolor=vec(p.wei), c=:rainbow,aspect_ratio=:equal, size=(600, 600))\n",
    "            title!(\"Progression: $(round(Int64,100*progression.counter / progression.n))%\")\n",
    "        end\n",
    "\n",
    "        results.Eelec[istep], results.momentum[istep], results.Etot[istep] = PIC_step!(p, pmover; kernel=kernel)\n",
    "        results.C[istep] = pmover.C[1]\n",
    "        results.S[istep] = pmover.S[1]\n",
    "\n",
    "        if istep % T == 0\n",
    "            # p.wei .= nufft_interpolation(p.wei, p.x, p.v, init_pos, init_vel) .* weights\n",
    "            p.wei ./= vec(weights)\n",
    "            triangulation_interpolation!(p.wei, p.x, p.v, init_pos, init_vel, example)\n",
    "            p.wei .*= vec(weights)\n",
    "            p.x .= init_pos\n",
    "            p.v .= init_vel\n",
    "        end\n",
    "        \n",
    "        ProgressMeter.next!(progression)\n",
    "    end when plotting\n",
    "    if !plotting\n",
    "        animation = nothing\n",
    "    end\n",
    "    \n",
    "    results.Eelec .= sqrt.(results.Eelec)\n",
    "    results.Etot .= sqrt.(results.Etot)\n",
    "    \n",
    "    return results, animation\n",
    "end"
   ]
  },
  {
   "cell_type": "code",
   "execution_count": null,
   "metadata": {},
   "outputs": [],
   "source": [
    "function triangulation_interpolation!(valsf, _pos, _vel, gridxoutput, gridvoutput, example)\n",
    "    \"\"\"\n",
    "    Perform a linear interpolation of the data to the grid by using a Delaunay triangulation.\n",
    "    \n",
    "    Steps:\n",
    "    1. Create the Delaunay triangulation\n",
    "    2. For each point (x,v) in (gridxoutput, gridvoutput)\n",
    "        a. Get the triangle T in which (x,v) lies, by iterating over all the triangles and testing each one of them\n",
    "        b. From the vertices of T get a linear interpolation of the function at x, using barycentric coordinates\n",
    "    \"\"\"\n",
    "    \n",
    "    pointset = Triangulate.TriangulateIO()\n",
    "        \n",
    "    @views pointset.pointlist = vcat(_pos', _vel')\n",
    "    pointset.pointattributelist = valsf'\n",
    "    (triangulation, _) = Triangulate.triangulate(\"Q\", pointset);\n",
    "\n",
    "    progressiontriangulation = ProgressMeter.Progress(length(_pos), desc=\"Interpolation by triangulation: \", showspeed=true)\n",
    "\n",
    "\n",
    "    @views @inbounds for part=1:length(valsf)\n",
    "        valsf[part] = triangleContainingPoint(triangulation, gridxoutput[part], gridvoutput[part])[1]\n",
    "        ProgressMeter.next!(progressiontriangulation)\n",
    "    end\n",
    "    return triangulation\n",
    "end\n",
    "\n",
    "\n",
    "function triangleContainingPoint(triangulation, x, v)\n",
    "    @views @inbounds for (idxA, idxB, idxC) = eachcol(triangulation.trianglelist)\n",
    "        \n",
    "        A = triangulation.pointlist[:, idxA]\n",
    "        B = triangulation.pointlist[:, idxB]\n",
    "        C = triangulation.pointlist[:, idxC]\n",
    "        \n",
    "        # if x is outside of the rectangle defined by [minX(A, B, C), maxX(A, B, C)]\n",
    "        # and v is outside of the rectangle defined by [minV(A, B, C), maxV(A, B, C)]\n",
    "        # then we don't have to do the computations\n",
    "        if ((x < A[1]) && (x < B[1]) && (x < C[1])) || ((x > A[1]) && (x > B[1]) && (x > C[1]))\n",
    "            continue\n",
    "        elseif ((v < A[2]) && (v < B[2]) && (v < C[2])) || ((v > A[2]) && (v > B[2]) && (v > C[2]))\n",
    "            continue\n",
    "        end\n",
    "        \n",
    "        \n",
    "        # Use barycentric coordinates:\n",
    "        det = (A[1] - C[1])*(B[2] - C[2]) - (A[2] - C[2])*(B[1] - C[1])\n",
    "        λ₁ = (x - C[1])*(B[2] - C[2]) + (v - C[2])*(C[1] - B[1])\n",
    "        λ₂ = (x - C[1])*(C[2] - A[2]) + (v - C[2])*(A[1] - C[1])\n",
    "        λ₁ /= det \n",
    "        λ₂ /= det \n",
    "        \n",
    "        if (λ₁>0)&&(λ₂>0)&&(λ₁+λ₂<1)\n",
    "            # l'accès est très couteux !!!!\n",
    "            wA = triangulation.pointattributelist[1, idxA]\n",
    "            wB = triangulation.pointattributelist[1, idxB]\n",
    "            wC = triangulation.pointattributelist[1, idxC]\n",
    "            return wA * λ₁ + wB * λ₂ + (1 - λ₁ - λ₂) * wC, (idxA, idxB, idxC)\n",
    "        end\n",
    "    end\n",
    "\n",
    "    return 0.0, (-1, -1, -1)\n",
    "end"
   ]
  },
  {
   "cell_type": "code",
   "execution_count": null,
   "metadata": {},
   "outputs": [],
   "source": [
    "function nufft_interpolation(valsfweighted, _pos, _vel, gridxoutput, gridvoutput)\n",
    "    \"\"\"\n",
    "    Return the interpolated function at position (gridxoutput, gridvoutput) from the values known at (_pos, _vel).\n",
    "    \"\"\"\n",
    "    \n",
    "    tol = 1e-12\n",
    "    function to2piInterval(vals)\n",
    "        \"\"\"\n",
    "        Linearly transform the content of ``vals`` to make it \n",
    "        lie within the interval [-1, 1].\n",
    "        \n",
    "        Return the transformed values and the jacobian corresponding \n",
    "        to the transformation.\n",
    "        \"\"\"\n",
    "        minvals = minimum(vals)\n",
    "        maxvals = maximum(vals)\n",
    "        jac = 1. / (maxvals - minvals)\n",
    "        return (vals .- minvals) .* jac .- 0.5\n",
    "    end\n",
    "    \n",
    "    pos, jacx = to2piInterval(_pos)\n",
    "    vel, jacv = to2piInterval(_vel)\n",
    "    cplxf = convert.(ComplexF64, valsfweighted .* (jacx * jacv)) \n",
    "    # Somehow the 2π factor is already taken into account in NUFFT computations\n",
    "    Nk = convert(Int64, ceil(0.02 * length(_pos)));\n",
    "    fhat = nufft2d1(pos, vel, cplxf, -1, tol, Nk, Nk);\n",
    "    outputpos, jacxoutput = to2piInterval(gridxoutput)\n",
    "    outputvel, jacvoutput = to2piInterval(gridvoutput)\n",
    "    return real(nufft2d2(outputpos, outputvel, 1, tol, fhat)) #./ (jacxoutput * jacvoutput);\n",
    "end"
   ]
  },
  {
   "cell_type": "markdown",
   "metadata": {},
   "source": [
    "# Inputs"
   ]
  },
  {
   "cell_type": "code",
   "execution_count": null,
   "metadata": {},
   "outputs": [],
   "source": [
    "dev = CPU()\n",
    "\n",
    "# example = example_landaudamping\n",
    "# example = example_stronglandaudamping\n",
    "example = example_twostreaminstability\n",
    "# example = example_bumpontail\n",
    "# example = example_stationarygaussian\n",
    "# example = example_nonhomogeneousstationarysolution\n",
    "\n",
    "nstep = 1000\n",
    "dt = 0.1\n",
    "\n",
    "nx = 128\n",
    "nv = 129\n",
    "\n",
    "meshx = OneDGrid(dev, nx, 0, example.L);\n",
    "meshv = OneDGrid(dev, nv, example.vmin, example.vmax);\n",
    "\n",
    "quadX = RectangleRule\n",
    "quadV = RectangleRule\n",
    "\n",
    "quadrulex = quadX(nx, 0, example.L);\n",
    "quadrulev = quadV(nv, example.vmin, example.vmax);\n",
    "# # quadrulev = quadV(nv, μ - 5/√β, μ + 5/√β)\n",
    "# quadrulev = quadV(nv, example.μ - 5/√example.β, example.μ + 5/√example.β)"
   ]
  },
  {
   "cell_type": "code",
   "execution_count": null,
   "metadata": {},
   "outputs": [],
   "source": [
    "# kx = example.kx\n",
    "# β = example.β\n",
    "# α = example.α\n",
    "# M₀ = example.M₀\n",
    "\n",
    "# println(\"M₀ = $(M₀)\")\n",
    "\n",
    "# rule = RectangleRule(nx, 0, example.L);\n",
    "# println(\"Rectangles:\\t$(sum(cos.(kx.*rule.points) .* rule.weights))\")\n",
    "# rule = TrapezoidalRule(nx, 0, example.L);\n",
    "# println(\"Trapèzes:\\t$(sum(cos.(kx.*rule.points) .* rule.weights))\")\n",
    "# rule = GaussLegendreRule(nx, 0, example.L);\n",
    "# println(\"Gauss-Legendre:\\t$(sum(cos.(kx.*rule.points) .* rule.weights))\")\n",
    "\n",
    "# println(repeat(\"=\", 45))\n",
    "\n",
    "# println(\"π M₀ = \\t\\t\"     *   \"$(π * M₀)\")\n",
    "# rule = RectangleRule(nx, 0, example.L);\n",
    "# println(\"Rectangles:\\t\"   *   \"$(sum(cos.(rule.points) .* example.f0.(rule.points, quadrulev.points') .* rule.weights.*quadrulev.weights'))\")\n",
    "# rule = TrapezoidalRule(nx, 0, example.L);\n",
    "# println(\"Trapèzes:\\t\"     *   \"$(sum(cos.(rule.points) .* example.f0.(rule.points, quadrulev.points') .* rule.weights.*quadrulev.weights'))\")\n",
    "# rule = GaussLegendreRule(nx, 0, example.L);\n",
    "# println(\"Gauss-Legendre:\\t\" * \"$(sum(cos.(rule.points) .* example.f0.(rule.points, quadrulev.points') .* rule.weights.*quadrulev.weights'))\")"
   ]
  },
  {
   "cell_type": "code",
   "execution_count": null,
   "metadata": {},
   "outputs": [],
   "source": [
    "# besseli(1, β * M₀) * α * √(2π/β) * 2 - M₀"
   ]
  },
  {
   "cell_type": "code",
   "execution_count": null,
   "metadata": {},
   "outputs": [],
   "source": [
    "# gridv = example.vmin:0.01:example.vmax\n",
    "\n",
    "# ex_quadrulev = quadV(nv, example.vmin, example.vmax);\n",
    "# ex_quadrulev2 = quadV(nv, example.μ - 5/√example.β, example.μ + 5/√example.β)\n",
    "# ex_quadrulev3 = quadV(nv, example.μ - 4/√example.β, example.μ + 4/√example.β)\n",
    "\n",
    "# plot(gridv, example.f0.(π/2, gridv))\n",
    "# plot!(ex_quadrulev.points, zeros(ex_quadrulev.len) .+ 0.01, seriestype=:scatter, markerstrokewidth=0, label=\"grille totale\")\n",
    "# plot!(ex_quadrulev2.points, zeros(ex_quadrulev2.len) .+ 0.025, seriestype=:scatter, markerstrokewidth=0, label=\"±5σ\")\n",
    "# plot!(ex_quadrulev3.points, zeros(ex_quadrulev3.len) .+ 0.040, seriestype=:scatter, markerstrokewidth=0, label=\"±4σ\")"
   ]
  },
  {
   "cell_type": "code",
   "execution_count": null,
   "metadata": {},
   "outputs": [],
   "source": [
    "# plot(quadrulex.points, quadrulev.points', f.(quadrulex.points, quadrulev.points')', st=:surface, camera=(80, 30))\n",
    "plot(quadrulex.points, quadrulev.points, vec(example.f0.(quadrulex.points, quadrulev.points')), c=:rainbow, st=:surface)\n",
    "xlabel!(\"x\")\n",
    "ylabel!(\"v\")\n",
    "# savefig(\"gif/gyrokinetic_example.png\")"
   ]
  },
  {
   "cell_type": "markdown",
   "metadata": {},
   "source": [
    "# Simulations"
   ]
  },
  {
   "cell_type": "code",
   "execution_count": null,
   "metadata": {},
   "outputs": [],
   "source": [
    "gsl = zeros(Complex{Float64}, (nx,nv));\n",
    "@. gsl = example.f0.(meshx.points, meshv.points');\n",
    "@time resSL, animSL = solve_SL!(nstep, dt, gsl, meshx, meshv, example.kx; plotting=false);"
   ]
  },
  {
   "cell_type": "code",
   "execution_count": null,
   "metadata": {},
   "outputs": [],
   "source": [
    "if animSL != nothing\n",
    "    gif(animSL, \"gif/SL_TSI.mp4\");\n",
    "end"
   ]
  },
  {
   "cell_type": "markdown",
   "metadata": {},
   "source": [
    "# PIC interpretation"
   ]
  },
  {
   "cell_type": "code",
   "execution_count": null,
   "metadata": {},
   "outputs": [],
   "source": [
    "T = NaN\n",
    "\n",
    "nbparticles = nx*nv\n",
    "x0_init = copy(vec(repeat(quadrulex.points, 1, quadrulev.len)))\n",
    "v0_init = copy(vec(repeat(quadrulev.points', quadrulex.len, 1)))\n",
    "x0 = copy(vec(repeat(quadrulex.points, 1, quadrulev.len)))\n",
    "v0 = copy(vec(repeat(quadrulev.points', quadrulex.len, 1)))\n",
    "weights = quadrulex.weights .* quadrulev.weights'\n",
    "wei = vec(example.f0.(quadrulex.points, quadrulev.points') .* weights)\n",
    "p = Particles(x0, v0, wei, nbparticles);\n",
    "@time resPF, animPF = solve_PIC!(nstep, dt, p, meshx, example, vec(weights) ; plotting=false, kernel=kernel_poisson!, T=T);"
   ]
  },
  {
   "cell_type": "code",
   "execution_count": null,
   "metadata": {},
   "outputs": [],
   "source": [
    "if animPF != nothing\n",
    "    gif(animPF, \"gif/PF_TSI_triangulation.mp4\");\n",
    "end"
   ]
  },
  {
   "cell_type": "markdown",
   "metadata": {},
   "source": [
    "## Plot particles"
   ]
  },
  {
   "cell_type": "code",
   "execution_count": null,
   "metadata": {},
   "outputs": [],
   "source": [
    "plot(vec(p.x), vec(p.v), seriestype=:scatter, markersize=sqrt(600*600 / (nx*nv) / π) * 0.3, camera=(0, 90), markerstrokecolor=\"white\", markerstrokewidth=0, label=\"\", zcolor=vec(p.wei), c=:rainbow, aspect_ratio=:equal, size=(600, 600))"
   ]
  },
  {
   "cell_type": "markdown",
   "metadata": {},
   "source": [
    "## Triangulation interpolation"
   ]
  },
  {
   "cell_type": "code",
   "execution_count": null,
   "metadata": {},
   "outputs": [],
   "source": [
    "newf = copy(p.wei) ./ vec(weights)\n",
    "triangulation = triangulation_interpolation!(newf, p.x, p.v, x0_init, v0_init, example)\n",
    "newf .*= vec(weights);"
   ]
  },
  {
   "cell_type": "code",
   "execution_count": null,
   "metadata": {},
   "outputs": [],
   "source": [
    "function plot_triangulation(tri; p=nothing, scaled=false)\n",
    "    if p==nothing \n",
    "        p = plot()\n",
    "    end\n",
    "    # Loop version, slow\n",
    "    # @views @showprogress for t = 1:size(tri.trianglelist, 2)\n",
    "    #     xs = tri.pointlist[1, tri.trianglelist[:, t]]\n",
    "    #     ys = tri.pointlist[2, tri.trianglelist[:, t]]\n",
    "    #     plot!(p, [xs; xs[1]], [ys; ys[1]], label=\"\", c=:rainbow, linewidth=0.15)\n",
    "    # end\n",
    "    \n",
    "    # \"Vectorized\" version, fast!\n",
    "    @views begin\n",
    "        x1 = tri.pointlist[1, tri.trianglelist'[:, 1]]'\n",
    "        x2 = tri.pointlist[1, tri.trianglelist'[:, 2]]'\n",
    "        x3 = tri.pointlist[1, tri.trianglelist'[:, 3]]'\n",
    "        posX = vec(vcat(x1, x2, x3, x1, NaN*similar(x1)))\n",
    "        v1 = tri.pointlist[2, tri.trianglelist'[:, 1]]'\n",
    "        v2 = tri.pointlist[2, tri.trianglelist'[:, 2]]'\n",
    "        v3 = tri.pointlist[2, tri.trianglelist'[:, 3]]'\n",
    "        posV = vec(vcat(v1, v2, v3, v1, NaN*similar(v1)))\n",
    "    end\n",
    "    if scaled \n",
    "        posX .-= 1; posX .*= example.L\n",
    "        posV .-= 1; posV .*= example.vmax - example.vmin; posV .+= example.vmin;\n",
    "    end\n",
    "    plot!(p, posX, posV, c=:rainbow, label=\"Delaunay Triangulation\", linewidth=0.15)\n",
    "    return p\n",
    "end"
   ]
  },
  {
   "cell_type": "code",
   "execution_count": null,
   "metadata": {},
   "outputs": [],
   "source": [
    "_, (idxA, idxB, idxC) = triangleContainingPoint(triangulation, 12., 1.5)"
   ]
  },
  {
   "cell_type": "code",
   "execution_count": null,
   "metadata": {},
   "outputs": [],
   "source": [
    "p1 = plot(p.x, p.v, zcolor=p.wei, st=:scatter, label=\"Particules\",\n",
    "            title=example.shortname * \"\\n($(quadX)($(nx)), $(quadV)($(nv)))\", titlefontsize=8, c=:rainbow)\n",
    "plot_triangulation(triangulation; p=p1)\n",
    "p2 = plot(x0_init, v0_init, newf, st=:surface, camera=(0, 90), title=\"Interpolated\", titlefontsize=8, c=:rainbow)\n",
    "plot(p1, p2, size=(1200, 600))"
   ]
  },
  {
   "cell_type": "markdown",
   "metadata": {},
   "source": [
    "# Classical PIC"
   ]
  },
  {
   "cell_type": "code",
   "execution_count": null,
   "metadata": {},
   "outputs": [],
   "source": [
    "# nbparticlespic = Int64(2e5)\n",
    "# (x0, y0, wei) = samples(np, example.kx, example.α, example.μ, example.β)\n",
    "# p = Particles(x0, y0, wei, nbparticlespic);\n",
    "# @time E_elecpic, momentumpic, E_totpic, animation = solve_PIC!(nstep, dt, p, meshx;plotting=false, kx=example.kx);"
   ]
  },
  {
   "cell_type": "markdown",
   "metadata": {},
   "source": [
    "# Plots"
   ]
  },
  {
   "cell_type": "code",
   "execution_count": null,
   "metadata": {},
   "outputs": [],
   "source": [
    "t = (1:nstep) .* dt\n",
    "\n",
    "\n",
    "plot(legend=:bottomright, minorgrid=true, size=(600, 400))\n",
    "\n",
    "# energies\n",
    "# plot!(t .+ dt, E_eleccarac, label=L\"\\log(E_{elec, carac}),\\quad dt=\"*\"$(dt)\")\n",
    "# plot!(t, E_elecsl, label=L\"E_{elec, SL},\\quad dt=\"*\"$(dt)\")\n",
    "\n",
    "# log(Energies)\n",
    "plot!(t .+ dt, log10.(resPF.Eelec), label=L\"\\log_{10}(E_{elec, PF}),\\quad dt=\"*\"$(dt)\")\n",
    "plot!(t, log10.(resSL.Eelec), label=L\"\\log_{10}(E_{elec, SL}),\\quad dt=\"*\"$(dt)\", ls=:dash, lw=1)\n",
    "# plot!(t, log.(E_tot),       label=L\"\\log(E_{tot}),\\quad dt=\"*\"$(dt)\")\n",
    "# plot!(t, log.(E_elecpic), label=L\"$\\log(E_{elec, PIC}),\\quad$ dt=\"*\"$(dt), \"* L\"$n_p$ =\"*\"$(nbparticlespic)\", ls=:dot)\n",
    "# plot!(t, log.(energy_from_projection), label=L\"\\log(E_{pic, PIC}),\\quad dt=\"*\"$(dt)\")\n",
    "# plot!(t, log.(energy_elec_from_phi), label=L\"\\log(E_{from\\,\\Phi, PIC}),\\quad dt=\"*\"$(dt)\")\n",
    "\n",
    "\n",
    "# ============== #\n",
    "\n",
    "# Landau damping (kx=0.5):\n",
    "# plot!(x->-0.1533x - 5.6, label=\"Damping attendu (-0.1533)\")\n",
    "# E_th = abs.(4ϵ * 0.3677 .* exp.(−0.1533 .* t) .* cos.(1.4156.*t .−0.5326245)) * sqrt(L/2)\n",
    "# plot!(t, log.(E_th),label=\"Energie theorique\")\n",
    "# Landau damping (kx=0.4):\n",
    "# plot!(x->-0.0661x - 5.3, label=\"Damping attendu (-0.0661)\")\n",
    "# E_th = 0.002.*0.42466.*abs.(cos.(1.285.*t .-0.33577)).*exp.(-0.0661.*t) # expression du bouquin, pas correcte\n",
    "# E_th = abs.(4*ϵ*0.424666*exp.(-0.0661 .* t) .* cos.(1.2850 .* t .- 0.3357725) * sqrt(L/2)) # issue des calculs du bouquin en calculant correctement √(∫sin(0.5x)^2dx)\n",
    "# plot!(t, log.(E_th),label=\"Energie theorique\", ls=:dashdotdot)\n",
    "\n",
    "# TSI (k,v0) = (0.2, 1.3):\n",
    "# plot!(t, -0.001t .- 4.2, label=L\"y=0.001t - 5.0\")\n",
    "# TSI (k,v0) = (0.2, 2.4):\n",
    "# plot!(t, 0.2258t .- 6.4, label=L\"y=0.2258t - 8.4\")\n",
    "# TSI (k,v0) = (0.2, 3):\n",
    "# plot!(t, 0.2845t .- 6.2, label=L\"y=0.2845t - 8.2\")\n",
    "\n",
    "# Strong Landau damping\n",
    "# plot!(t, -0.285473t .+ 1, label=L\"y=-0.285473t + 1\")\n",
    "# plot!(t, 0.086671t .- 3.7, label=L\"y=0.086671t - 3.7\")\n",
    "\n",
    "title!(example.shortname * \"\\n($(quadX)($(nx)), $(quadV)($(nv)))\", titlefontsize=8)\n",
    "xlabel!(\"t (T=$(T))\")\n",
    "# xlabel!(\"time\")"
   ]
  },
  {
   "cell_type": "code",
   "execution_count": null,
   "metadata": {},
   "outputs": [],
   "source": [
    "# fn = \"methode_carac/test_pgfplots\"\n",
    "# savefig(\"/Users/ylehenaf/Documents/latex/imgs/tex/$(fn).tikz\")"
   ]
  },
  {
   "cell_type": "code",
   "execution_count": null,
   "metadata": {},
   "outputs": [],
   "source": [
    "tokeep = 1:nstep\n",
    "plot(t[tokeep], resPF.C[tokeep], label=\"C\")\n",
    "# plot(t[tokeep], resPF.S[tokeep], label=\"S\")"
   ]
  },
  {
   "cell_type": "markdown",
   "metadata": {},
   "source": [
    "# Plot annotations"
   ]
  },
  {
   "cell_type": "code",
   "execution_count": null,
   "metadata": {},
   "outputs": [],
   "source": [
    "p = 2π / 1.4156\n",
    "vline!(vcat([4 + i*p for i=0:4], [49.5 + i*p for i=0:3]), label=\"\")\n",
    "# vline!([28.1 + i*p for i=-4:0], label=\"\")"
   ]
  },
  {
   "cell_type": "code",
   "execution_count": null,
   "metadata": {},
   "outputs": [],
   "source": [
    "plot!([49.5, 49.5+p], [-10, -10], arrow=arrow(:closed, :both), label=\"\")\n",
    "annotate!((51.5, -10.3, text(L\"\\frac{2\\pi}{1.4156}\", :top, 10)))"
   ]
  },
  {
   "cell_type": "markdown",
   "metadata": {},
   "source": [
    "# Quantités conservatives (SL Généralisé)"
   ]
  },
  {
   "cell_type": "markdown",
   "metadata": {},
   "source": [
    "## Variation d'énergie totale"
   ]
  },
  {
   "cell_type": "code",
   "execution_count": null,
   "metadata": {},
   "outputs": [],
   "source": [
    "p11 = plot(t, resPF.Etot, label=\"\", minorgrid=true)\n",
    "title!(p11, \"Énergie totale (carac)\")\n",
    "p12 = plot(t, (resPF.Etot .- resPF.Etot[1]) ./ resPF.Etot[1], label=\"\", minorgrid=true)\n",
    "title!(p12, \"Relative (carac)\")\n",
    "p21 = plot(t, resSL.Etot, label=\"\", minorgrid=true)\n",
    "title!(p21, \"Énergie totale (SL)\")\n",
    "p22 = plot(t, (resSL.Etot .- resSL.Etot[1]) ./ resSL.Etot[1], label=\"\", minorgrid=true)\n",
    "title!(p22, \"Relative (SL)\")\n",
    "p=plot(p11, p12, p21, p22, size=(800, 600), layout=(2, 2))"
   ]
  },
  {
   "cell_type": "code",
   "execution_count": null,
   "metadata": {},
   "outputs": [],
   "source": [
    "p11 = plot(t, E_totpic, label=\"\")\n",
    "title!(p11, \"Énergie totale (PIC)\")\n",
    "p12 = plot(t, (E_totpic .- E_totpic[1]) ./ E_totpic[1], label=\"\")\n",
    "title!(p12, \"Relative (PIC)\")\n",
    "p=plot(p11, p12, size=(800, 600), layout=(2, 1))"
   ]
  },
  {
   "cell_type": "markdown",
   "metadata": {},
   "source": [
    "## Variations du moment"
   ]
  },
  {
   "cell_type": "code",
   "execution_count": null,
   "metadata": {},
   "outputs": [],
   "source": [
    "p11 = plot(t, resPF.momentum, label=\"\", minorgrid=true)\n",
    "title!(p11, \"Momentum (carac)\")\n",
    "p12 = plot(t, (resPF.momentum .- resPF.momentum[1]) ./ resPF.momentum[1], label=\"\", minorgrid=true)\n",
    "title!(p12, \"Relatif (carac)\")\n",
    "p21 = plot(t, resSL.momentum, label=\"\", minorgrid=true)\n",
    "title!(p21, \"Momentum (SL)\")\n",
    "p22 = plot(t, (resSL.momentum .- resSL.momentum[1]) ./ resSL.momentum[1], label=\"\", minorgrid=true)\n",
    "title!(p22, \"Relatif (SL)\")\n",
    "p=plot(p11, p12, p21, p22, size=(800, 600), layout=(2, 2))"
   ]
  },
  {
   "cell_type": "code",
   "execution_count": null,
   "metadata": {},
   "outputs": [],
   "source": [
    "p1 = plot(t, momentumpic, label=\"\", minorgrid=true)\n",
    "title!(p1, \"Momentum (PIC)\")\n",
    "p2 = plot(t, (momentumpic .- momentumpic[1]) ./ momentumpic[1], label=\"\", minorgrid=true)\n",
    "title!(p2, \"Relative (PIC)\")\n",
    "p=plot(p1, p2, size=(800, 600), layout=(2, 1))"
   ]
  },
  {
   "cell_type": "markdown",
   "metadata": {},
   "source": [
    "# Divers"
   ]
  },
  {
   "cell_type": "markdown",
   "metadata": {},
   "source": [
    "interpolation 2D (NUFFT)\n",
    "\n",
    "euler 2D\n",
    "\n",
    "approximation sparse d'une somme (hyperbolic cross)\n",
    "\n",
    "HMF 4D (2Dx * 2Dv)\n",
    "\n",
    "Conservation énergie globale après discrétisation du schéma"
   ]
  },
  {
   "cell_type": "markdown",
   "metadata": {},
   "source": [
    "## Visualisation des points de quadrature"
   ]
  },
  {
   "cell_type": "code",
   "execution_count": null,
   "metadata": {},
   "outputs": [],
   "source": [
    "visualization_quadrulex = TrapezoidalRule(16, 0, example.L)\n",
    "visualization_quadrulev = GaussHermiteRule(64, example.vmin, example.vmax)\n",
    "\n",
    "gridx_init = copy(vec(repeat(visualization_quadrulex.points, 1, visualization_quadrulev.len)))\n",
    "gridv_init = copy(vec(repeat(visualization_quadrulev.points', visualization_quadrulex.len, 1)))\n",
    "plot(gridx_init, gridv_init, seriestype=:scatter, markersize=sqrt(600*600 / (nx*nv) / π) * 0.5, camera=(0, 90), markerstrokecolor=nothing, markerstrokewidth=0, label=\"\", zcolor=vec(example.f0.(gridx_init, gridv_init')), c=:rainbow)"
   ]
  },
  {
   "cell_type": "code",
   "execution_count": null,
   "metadata": {},
   "outputs": [],
   "source": []
  },
  {
   "cell_type": "code",
   "execution_count": null,
   "metadata": {},
   "outputs": [],
   "source": []
  }
 ],
 "metadata": {
  "kernelspec": {
   "display_name": "Julia 1.7.0",
   "language": "julia",
   "name": "julia-1.7"
  },
  "language_info": {
   "file_extension": ".jl",
   "mimetype": "application/julia",
   "name": "julia",
   "version": "1.7.0"
  }
 },
 "nbformat": 4,
 "nbformat_minor": 2
}
