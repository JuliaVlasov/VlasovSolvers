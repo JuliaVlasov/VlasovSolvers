{
 "cells": [
  {
   "cell_type": "markdown",
   "metadata": {},
   "source": [
    "# Méthode semi-Lagrangienne généralisée\n",
    "\n",
    "Cette méthode ne fait pas d'interpolation à chaque itération en temps, mais revient à la condition initiale sur la \n",
    "grille grâce aux caractéristiques.\n",
    "\n",
    "Une amélioration possible est de procéder à une interpolation tous les $T$ itérations afin de ne pas avoir de soucis\n",
    "dans la quadrature lorsque les caractéristiques tendent à converger vers une zone restreinte du domaine d'étude."
   ]
  },
  {
   "cell_type": "code",
   "execution_count": null,
   "metadata": {},
   "outputs": [],
   "source": [
    "using LinearAlgebra, QuadGK, Roots, FFTW\n",
    "using VlasovSolvers\n",
    "using Plots\n",
    "\n",
    "import VlasovSolvers: advection!\n",
    "import VlasovSolvers: samples, Particles, PIC_step!, compute_rho\n",
    "using ProgressMeter\n",
    "\n",
    "using BenchmarkTools\n",
    "using LazyArrays\n",
    "\n",
    "using LaTeXStrings\n",
    "using QuadGK"
   ]
  },
  {
   "cell_type": "code",
   "execution_count": null,
   "metadata": {},
   "outputs": [],
   "source": [
    "struct RectangleRule\n",
    "    len  :: Int64\n",
    "    start :: Float64\n",
    "    stop  :: Float64\n",
    "    points :: Vector{Float64}\n",
    "    weights :: Vector{Float64}\n",
    "    step :: Float64\n",
    "\n",
    "    function RectangleRule(len, start, stop)\n",
    "        points = LinRange(start, stop, len+1)[1:end-1]\n",
    "        s = step(points) \n",
    "        weights = [s for _ = 1:len]\n",
    "        new(len, start, stop, vec(points), weights, s)\n",
    "    end\n",
    "end"
   ]
  },
  {
   "cell_type": "code",
   "execution_count": null,
   "metadata": {},
   "outputs": [],
   "source": [
    "struct TrapezoidalRule\n",
    "    len  :: Int64\n",
    "    start :: Float64\n",
    "    stop  :: Float64\n",
    "    points :: Vector{Float64}\n",
    "    weights :: Vector{Float64}\n",
    "    step :: Float64\n",
    "\n",
    "    function TrapezoidalRule(len, start, stop)\n",
    "        points = LinRange(start, stop, len)[1:end]\n",
    "        s = step(points) \n",
    "        weights = [s for _ = 1:len]\n",
    "        weights[1] /= 2\n",
    "        weights[end] /= 2\n",
    "        new(len, start, stop, vec(points), weights, s)\n",
    "    end\n",
    "end"
   ]
  },
  {
   "cell_type": "code",
   "execution_count": null,
   "metadata": {},
   "outputs": [],
   "source": [
    "struct GaussRule\n",
    "    len  :: Int64\n",
    "    start :: Float64\n",
    "    stop  :: Float64\n",
    "    points :: Vector{Float64}\n",
    "    weights :: Vector{Float64}\n",
    "\n",
    "    function GaussRule(len, start, stop)\n",
    "        points, weights = gauss(len)\n",
    "        points .+= 1\n",
    "        points .*= (stop - start) / 2\n",
    "        points .+= start\n",
    "        weights .*= (stop - start) / 2\n",
    "        new(len, start, stop, points, weights)\n",
    "    end\n",
    "end"
   ]
  },
  {
   "cell_type": "code",
   "execution_count": null,
   "metadata": {},
   "outputs": [],
   "source": [
    "struct KronrodRule\n",
    "    len  :: Int64\n",
    "    start :: Float64\n",
    "    stop  :: Float64\n",
    "    points :: Vector{Float64}\n",
    "    weights :: Vector{Float64}\n",
    "    step :: Float64\n",
    "\n",
    "    function KronrodRule(len, start, stop)\n",
    "        pts, w, _ = kronrod(len)\n",
    "        weights = []\n",
    "        points = []\n",
    "        for i = 1:len\n",
    "            push!(points, pts[i])\n",
    "            push!(weights, w[i])\n",
    "            push!(points, -pts[i])\n",
    "            push!(weights, w[i])\n",
    "        end\n",
    "        push!(points, pts[end])\n",
    "        push!(weights, w[end])\n",
    "        \n",
    "        points .+= 1\n",
    "        points .*= (stop - start) / 2\n",
    "        points .+= start\n",
    "        weights .*= (stop - start) / 2\n",
    "        len = 2*len + 1\n",
    "        new(len, start, stop, points, weights)\n",
    "end\n",
    "    end"
   ]
  },
  {
   "cell_type": "code",
   "execution_count": null,
   "metadata": {},
   "outputs": [],
   "source": [
    "struct rkn_order4\n",
    "    a :: Array{Float64, 2}\n",
    "    b̄ :: Vector{Float64}\n",
    "    c :: Vector{Float64}\n",
    "    b :: Vector{Float64}\n",
    "    dt :: Float64\n",
    "    fg ::       Array{Float64, 3}\n",
    "    G ::        Array{Float64, 2}\n",
    "    Vdt ::      Array{Float64, 2}\n",
    "    tmpcos ::   Array{Float64, 2}\n",
    "    tmpsin ::   Array{Float64, 2}\n",
    "    C :: Vector{Float64}\n",
    "    S :: Vector{Float64}\n",
    "\n",
    "    function rkn_order4(X, dt)\n",
    "        # a, b̄, c, b correspond to the Butcher tableau\n",
    "        a = [0.0        0.0       0.0; \n",
    "            (2-√3)/12   0.0           0.0; \n",
    "            0.0         √(3)/6      0.0]\n",
    "        b̄ = [(5 - 3*√3)/24,     (3+√3)/12,  (1+√3)/24]\n",
    "        c = [(3+√3)/6,          (3-√3)/6,   (3+√3)/6]\n",
    "        b = [(3-2*√3)/12,       1/2,        (3+2*√3)/12]\n",
    "\n",
    "        new(a .* dt^2, b̄ .* dt^2, c .* dt, b .* dt, dt,\n",
    "            zeros(Float64, 3, size(X)...), \n",
    "            similar(X), \n",
    "            similar(X), \n",
    "            similar(X),\n",
    "            similar(X), [0.0], [0.0])\n",
    "    end\n",
    "end"
   ]
  },
  {
   "cell_type": "code",
   "execution_count": null,
   "metadata": {},
   "outputs": [],
   "source": [
    "#= ==================== symplectic_RKN_order4!\n",
    "Advect (X, V) on a time step dt using symplectic Runge-Kutta-Nystrom method of order4 [FQ10, sect.7.3, p.327, scheme1].\n",
    "\n",
    "The equation satisfied by X is d^2(X(t)) / dt^2 = C(t)\\cos(X(t)) - S(t)sin(X(t)).\n",
    "\n",
    "RKN method considers Ẋ = V as a variable, and updates both X and V.\n",
    "\n",
    "Using a change of variable and the jacobian of the flow being equal to 1, it is enough to know the function f on some\n",
    "initial fixed grid, independant of time, to compute C(t) and S(t).\n",
    "\n",
    "Args:\n",
    "- X: matrix of positions at time t_n\n",
    "- V: matrix of velocities at time t_n\n",
    "- F: values of initial condition at time t_0\n",
    "- dt: time step\n",
    "- kx: 2π/L\n",
    "- dxdv: dx*dv, where dx is the step in x and dv is the step in v\n",
    "\n",
    "Updates X, V in place, and returns coefficients C, S at current time. \n",
    "==================== =#\n",
    "function symplectic_RKN_order4!(X, V, F, rkn, kx)  \n",
    "    @views begin\n",
    "        for s=1:3\n",
    "            rkn.G .= X .+ V .* rkn.c[s] .+ rkn.a[s, 1] .* rkn.fg[1, :, :] .+ rkn.a[s, 2] .* rkn.fg[2, :, :] .+ rkn.a[s, 3] .* rkn.fg[3, :, :]\n",
    "            \n",
    "            rkn.G .*= kx\n",
    "     \n",
    "            rkn.tmpcos .= cos.(rkn.G)\n",
    "            rkn.tmpsin .= sin.(rkn.G)\n",
    "            sum!(rkn.C, rkn.tmpcos .* F)\n",
    "            sum!(rkn.S, rkn.tmpsin .* F)\n",
    "            rkn.C ./= π\n",
    "            rkn.S ./= π\n",
    "            rkn.fg[s, :, :] .= (rkn.C[1] .* rkn.tmpsin .- rkn.S[1] .* rkn.tmpcos)\n",
    "        end\n",
    "    \n",
    "        X .+= rkn.dt .* V .+ rkn.b̄[1] .* rkn.fg[1, :, :] .+ rkn.b̄[2]  .* rkn.fg[2, :, :] .+ rkn.b̄[3]  .* rkn.fg[3, :, :]\n",
    "        V .+= rkn.b[1] .* rkn.fg[1, :, :] .+ rkn.b[2] .* rkn.fg[2, :, :] .+ rkn.b[3] .* rkn.fg[3, :, :]\n",
    "        rkn.tmpcos .= cos.(X .* kx)\n",
    "        rkn.tmpsin .= sin.(X .* kx)\n",
    "        sum!(rkn.C, rkn.tmpcos .* F)\n",
    "        sum!(rkn.S, rkn.tmpsin .* F)\n",
    "    end\n",
    "    return @views rkn.C[1], rkn.S[1]\n",
    "end"
   ]
  },
  {
   "cell_type": "code",
   "execution_count": null,
   "metadata": {},
   "outputs": [],
   "source": [
    "function strang_splitting!(X, V, F, kx, dt)  \n",
    "    X .+= V .* dt/2\n",
    "    C = sum(cos.(X .* kx) .* F)\n",
    "    S = sum(sin.(X .* kx) .* F)\n",
    "    dphidx = (-C.*sin.(X .* kx) + S.*cos.(X .* kx)) ./ π\n",
    "    V .-= dt .* dphidx\n",
    "    X .+= V .* dt/2\n",
    "    return C, S\n",
    "end"
   ]
  },
  {
   "cell_type": "markdown",
   "metadata": {},
   "source": [
    "## SL Généralisée"
   ]
  },
  {
   "cell_type": "code",
   "execution_count": null,
   "metadata": {},
   "outputs": [],
   "source": [
    "function generalized_SL(nsteps::Int64, dt::Float64, quadrulex, quadrulev, f0::Function; plotting=false::Bool)\n",
    "\n",
    "    C = 0.0\n",
    "    S = 0.0\n",
    "\n",
    "    newX = repeat(quadrulex.points, 1, quadrulev.len)   # newX[i, j] is position at current time when starting from x0_i, v0_j\n",
    "    newV = repeat(quadrulev.points', quadrulex.len, 1)  # newV[i, j] is velocity at current time when starting from x0_i, v0_j\n",
    "    \n",
    "    E2_elec  = Array{Float64}(undef, nsteps)\n",
    "    E2_tot   = Array{Float64}(undef, nsteps)\n",
    "\n",
    "    rkn = rkn_order4(newX, dt)\n",
    "    \n",
    "    progression = ProgressMeter.Progress(nstep,desc=\"Loop in time: \", showspeed=true)\n",
    "        \n",
    "    f0vals = f0.(quadrulex.points, quadrulev.points') .* quadrulex.weights .* quadrulev.weights'\n",
    "\n",
    "    animation = @animate for istep=1:nsteps\n",
    "        C, S = symplectic_RKN_order4!(newX, newV, f0vals, rkn, kx)\n",
    "        # C, S = strang_splitting!(newX, newV, f0vals, kx, dt)\n",
    "\n",
    "        E2_elec[istep] = (C^2 + S^2) / (kx*π)\n",
    "        E2_tot[istep] = (E2_elec[istep] + sum(newV.^2 .* f0vals)) / 2 \n",
    "        \n",
    "        newX[findall(x -> x > quadrulex.stop,  newX)] .-= quadrulex.stop - quadrulex.start\n",
    "        newX[findall(x -> x < quadrulex.start, newX)] .+= quadrulex.stop - quadrulex.start\n",
    " \n",
    "        if plotting\n",
    "            # histogram2d(vec(newX), vec(newV), weights=vec(f0vals), bins=(nx, nv).*3, normalize=true, xlabel=\"position\", ylabel=\"velocity\", fillcolor=:roma)\n",
    "            scale = 25\n",
    "            plot(vec(newX), vec(newV), vec(f0vals), seriestype=:scatter, markersize=sqrt(widthx * widthv * scale^2  / (nx*nv) / π), camera=(0, 90),markerstrokecolor=\"white\", markerstrokewidth=0, label=\"\", zcolor=vec(f0vals), c=:rainbow,aspect_ratio=:equal, size=(widthx, widthv).*scale)\n",
    "            title!(\"Progression: $(round(Int64,100*progression.counter / progression.n))%\")\n",
    "        end\n",
    "        ProgressMeter.next!(progression)\n",
    "     end when plotting\n",
    "\n",
    "     return sqrt.(E2_elec), sqrt.(E2_tot), animation, newX, newV, f0vals\n",
    "end"
   ]
  },
  {
   "cell_type": "markdown",
   "metadata": {},
   "source": [
    "## SL classique"
   ]
  },
  {
   "cell_type": "code",
   "execution_count": null,
   "metadata": {},
   "outputs": [],
   "source": [
    "\"\"\"\n",
    "    hmf_poisson!(fᵗ    :: Array{Complex{Float64},2},\n",
    "                 mesh1 :: OneDGrid,\n",
    "                 mesh2 :: OneDGrid,\n",
    "                 ex    :: Array{Float64})\n",
    "\n",
    "    Compute the electric hamiltonian mean field from the\n",
    "    transposed distribution function\n",
    "\n",
    "\"\"\"\n",
    "function hmf_poisson!(fᵗ::Array{Complex{Float64},2},\n",
    "        mesh1::OneDGrid,\n",
    "        mesh2::OneDGrid,\n",
    "        ex::Array{Float64})\n",
    "\n",
    "    n1 = mesh1.len\n",
    "    rho = mesh2.step .* vec(sum(fᵗ, dims=1)) # ≈ ∫ f(t,x_i,v)dv, i=1, ..., n1\n",
    "    rho .-= sum(rho) * mesh1.step / mesh1.stop\n",
    "    kernel = zeros(Float64, n1)\n",
    "    k = -(mesh1.stop - mesh1.start) / (2π)\n",
    "    kernel[2]   =  k    # fourier mode  1\n",
    "    kernel[end] = -k    # fourier mode -1\n",
    "    ex .= real(ifft(fft(rho) .* 1im .* kernel))\n",
    "end\n",
    "\n",
    "\n",
    "function solve_SL!(nsteps, dt, f, mesh1, mesh2; plotting=false::Bool)\n",
    "    n1, n2 = size(f)\n",
    "    fᵗ = zeros(Complex{Float64}, (n2,n1))\n",
    "    transpose!(fᵗ, f)\n",
    "\n",
    "    energy = Array{Float64}(undef, nsteps)\n",
    "\n",
    "    ex = zeros(Float64, n1)\n",
    "    hmf_poisson!(fᵗ, mesh1, mesh2, ex)\n",
    "    advection!(fᵗ, mesh2, ex, 0.5dt)\n",
    "\n",
    "    progression = ProgressMeter.Progress(nsteps,desc=\"Loop in time: \", showspeed=true)\n",
    "    \n",
    "    animation = @animate for istep = 1:nsteps\n",
    "        energy[istep] = sqrt(sum(ex.^2) * mesh1.step)\n",
    "        # etot[istep] = sqrt(energy[istep]^2 + sum()*mesh1.step*mesh2.step)\n",
    "    \n",
    "        if plotting\n",
    "            plot(mesh1.points, mesh2.points, real(f)', size=(500, 500), st=:surface, camera=(0, 90))\n",
    "            title!(\"Progression: $(round(Int64,100*progression.counter / progression.n))%\")\n",
    "        end\n",
    "        advection!(f, mesh1, mesh2.points, dt)\n",
    "        transpose!(fᵗ, f)\n",
    "        hmf_poisson!(fᵗ, mesh1, mesh2, ex)\n",
    "        advection!(fᵗ, mesh2, ex, dt)\n",
    "        transpose!(f, fᵗ) \n",
    "        ProgressMeter.next!(progression)\n",
    "    end when plotting\n",
    "    if plotting\n",
    "        return energy, ex, animation\n",
    "    else\n",
    "        return energy, ex, nothing\n",
    "    end\n",
    "end"
   ]
  },
  {
   "cell_type": "markdown",
   "metadata": {},
   "source": [
    "# INPUTS"
   ]
  },
  {
   "cell_type": "markdown",
   "metadata": {},
   "source": [
    "## Landau damping"
   ]
  },
  {
   "cell_type": "code",
   "execution_count": null,
   "metadata": {},
   "outputs": [],
   "source": [
    "kx = 0.5\n",
    "L = 2π / kx\n",
    "ϵ = 0.001\n",
    "μ = 0.0\n",
    "β = 1.0\n",
    "f(x,v) = (1 + ϵ * cos(kx*x)) * exp(-β * (v-μ)^2 / 2) / √(2π/β)\n",
    "castest = \"Landau damping\\n(kx, ϵ, μ, β) = $((kx, ϵ, μ, β)))\""
   ]
  },
  {
   "cell_type": "markdown",
   "metadata": {},
   "source": [
    "## Two-Stream Instability"
   ]
  },
  {
   "cell_type": "markdown",
   "metadata": {},
   "source": [
    "### Première version"
   ]
  },
  {
   "cell_type": "code",
   "execution_count": null,
   "metadata": {},
   "outputs": [],
   "source": [
    "kx = 0.2\n",
    "L = 2π / kx\n",
    "ϵ = 0.001\n",
    "β₁ = 1\n",
    "β₂ = 1\n",
    "v0 = 2.4\n",
    "μ₁ =  v0\n",
    "μ₂ = -v0\n",
    "f(x,v) = (1 + ϵ * cos(kx * x)) * (exp(-β₁*(v-μ₁)^2 / 2) + exp(-β₁*(v-μ₂)^2 / 2)) / (√(2π)) * 0.5\n",
    "castest = \"TSI\\n(kx, β₁, β₂, μ₁, μ₂) = $((kx, β₁, β₂, μ₁, μ₂))\""
   ]
  },
  {
   "cell_type": "markdown",
   "metadata": {},
   "source": [
    "### Seconde version"
   ]
  },
  {
   "cell_type": "code",
   "execution_count": null,
   "metadata": {},
   "outputs": [],
   "source": [
    "kx = 0.2\n",
    "L = 2π / kx\n",
    "ϵ = 0.001\n",
    "β = 1\n",
    "μ =  0\n",
    "f(x,v) = (1 + ϵ * cos(kx * x)) * v^2 * exp(-β*(v-μ)^2 / 2) / (√(2π))\n",
    "castest = \"TSI\\n(kx, β, μ) = $((kx, β, μ))\""
   ]
  },
  {
   "cell_type": "markdown",
   "metadata": {},
   "source": [
    "## Bump-on-Tail"
   ]
  },
  {
   "cell_type": "code",
   "execution_count": null,
   "metadata": {},
   "outputs": [],
   "source": [
    "kx = 0.3\n",
    "L = 2π / kx\n",
    "ϵ = 0.04\n",
    "β₁ = 1\n",
    "β₂ = 1 / (0.5^2)\n",
    "μ₁ = 0\n",
    "μ₂ = 4.5\n",
    "nb = 0.2\n",
    "np = 0.9\n",
    "f(x,v) = (1 + ϵ * cos(kx*x)) * (np*exp(-β₁*(v-μ₁)^2 /2) + nb*exp(-β₂*(v-μ₂)^2 / 2)) / √(2π)\n",
    "castest = \"Bump on tail\\n(kx, ϵ, β₁, β₂, μ₁, μ₂, nb, np) = $((kx, ϵ, β₁, β₂, μ₁, μ₂, nb, np))\""
   ]
  },
  {
   "cell_type": "markdown",
   "metadata": {},
   "source": [
    "## Strong Landau Damping"
   ]
  },
  {
   "cell_type": "code",
   "execution_count": null,
   "metadata": {},
   "outputs": [],
   "source": [
    "kx = 0.5\n",
    "L = 2π / kx\n",
    "ϵ = 0.5\n",
    "β = 1.0\n",
    "μ = 0.0\n",
    "f(x,v) = (1 + ϵ * cos(kx*x)) * exp(-β * v^2 / 2) / √(2π/β)\n",
    "castest = \"Strong Landau damping\\n(kx, ϵ, μ, β) = $((kx, ϵ, μ, β)))\""
   ]
  },
  {
   "cell_type": "markdown",
   "metadata": {},
   "source": [
    "# Inputs indépendants du cas test"
   ]
  },
  {
   "cell_type": "code",
   "execution_count": null,
   "metadata": {},
   "outputs": [],
   "source": [
    "dev = CPU()\n",
    "\n",
    "nstep = 100\n",
    "dt = 1.0"
   ]
  },
  {
   "cell_type": "code",
   "execution_count": null,
   "metadata": {},
   "outputs": [],
   "source": [
    "nx = 16\n",
    "nv = 32\n",
    "\n",
    "meshx = OneDGrid(dev, nx, 0, L);\n",
    "meshv = OneDGrid(dev, nv, -10, 10);\n",
    "\n",
    "quadX = TrapezoidalRule\n",
    "quadV = TrapezoidalRule\n",
    "\n",
    "quadrulex = quadX(nx, 0, L);\n",
    "quadrulev = quadV(nv, -10, 10);"
   ]
  },
  {
   "cell_type": "markdown",
   "metadata": {},
   "source": [
    "# Simulations"
   ]
  },
  {
   "cell_type": "code",
   "execution_count": null,
   "metadata": {},
   "outputs": [],
   "source": [
    "gsl  = zeros(Complex{Float64}, (nx,nv))\n",
    "@. gsl = f.(meshx.points, meshv.points');\n",
    "@time E_elecsl, _, animationsl = solve_SL!(nstep, dt, gsl, meshx, meshv, plotting=false);"
   ]
  },
  {
   "cell_type": "code",
   "execution_count": null,
   "metadata": {},
   "outputs": [],
   "source": [
    "p = false\n",
    "@time E_elec, E_tot, animation, X, V, F = generalized_SL(nstep, dt, quadrulex, quadrulev, f, plotting=p);"
   ]
  },
  {
   "cell_type": "code",
   "execution_count": null,
   "metadata": {},
   "outputs": [],
   "source": [
    "# meshx_2 = OneDGrid(dev, 64, 0, L)\n",
    "# meshv_2 = OneDGrid(dev, 65, -10, 10)\n",
    "\n",
    "meshx_2 = meshx\n",
    "meshv_2 = meshv\n",
    "\n",
    "gsl_2  = zeros(Complex{Float64}, (meshx_2.len, meshv_2.len))\n",
    "@. gsl_2 = f.(meshx_2.points, meshv_2.points');\n",
    "@time E_elecsl_2, _, animationsl = solve_SL!(1000, 0.05, gsl_2, meshx_2, meshv_2, plotting=false);"
   ]
  },
  {
   "cell_type": "code",
   "execution_count": null,
   "metadata": {},
   "outputs": [],
   "source": [
    "# quadrulex_2 = quadX(64, 0, L);\n",
    "# quadrulev_2 = quadV(65, -10, 10);\n",
    "\n",
    "quadrulex_2 = quadrulex\n",
    "quadrulev_2 = quadrulev\n",
    "\n",
    "@time E_elec_2, E_tot_2, animation_2, X_2, V_2, F_2 = generalized_SL(1000, 0.05, quadrulex_2, quadrulev_2, f, plotting=p);\n",
    "# nstep=1000: 3.852896 seconds (558.21 k allocations: 4.159 GiB, 9.63% gc time)\n",
    "# nstep=5000: 20.110145 seconds (1.76 M allocations: 20.773 GiB, 8.93% gc time)"
   ]
  },
  {
   "cell_type": "code",
   "execution_count": null,
   "metadata": {},
   "outputs": [],
   "source": [
    "if p\n",
    "    gif(animation, \"generalized_semilag.gif\")\n",
    "end"
   ]
  },
  {
   "cell_type": "code",
   "execution_count": null,
   "metadata": {},
   "outputs": [],
   "source": [
    "t = (1:nstep).*dt\n",
    "t_2 = (1:1000).*0.05\n",
    "\n",
    "# energies\n",
    "# plot(t, E_elec.^2, label=L\"E_{elec}^2\", legend=:outertopright, minorgrid=true)\n",
    "# plot!(t, E_tot, label=L\"E_{tot}\", scaley=:log10)\n",
    "\n",
    "# log(Energies)\n",
    "plot(t, log.(E_elec),       label=L\"\\log(E_{elec}),\\quad dt=\"*\"$(dt)\", legend=:bottomright, minorgrid=true)\n",
    "plot!(t_2, log.(E_elec_2),       label=L\"\\log(E_{elec}), \\quad dt=0.05\")\n",
    "plot!(t, log.(E_elecsl),    label=L\"\\log(E_{elec, SL}),\\quad dt=\"*\"$(dt)\", ls=:dash, lw=1)\n",
    "plot!(t_2, log.(E_elecsl_2),    label=L\"\\log(E_{elec, SL}), \\quad dt=0.05\", ls=:dash, lw=1)\n",
    "plot!(t, log.(E_tot),       label=L\"\\log(E_{tot}),\\quad dt=\"*\"$(dt)\")\n",
    "plot!(t_2, log.(E_tot_2),       label=L\"\\log(E_{tot}), \\quad dt=0.05\")\n",
    "\n",
    "\n",
    "# ============== #\n",
    "\n",
    "# Landau damping (kx=0.5):\n",
    "# plot!(x->-0.1533x - 5.6, label=\"Damping attendu (-0.1533)\")\n",
    "# E_th = abs.(4ϵ * 0.3677 .* exp.(−0.1533 .* t) .* cos.(1.4156.*t .−0.5326245) .* sqrt(L/2))\n",
    "# plot!(t, log.(E_th),label=\"Energie theorique\", ls=:dash)\n",
    "# Landau damping (kx=0.4):\n",
    "# plot!(x->-0.0661x - 5.3, label=\"Damping attendu (-0.0661)\")\n",
    "# E_th = 0.002.*0.42466.*abs.(cos.(1.285.*t .-0.33577)).*exp.(-0.0661.*t) # expression du bouquin, pas correcte\n",
    "# E_th = abs.(4*ϵ*0.424666*exp.(-0.0661 .* t) .* cos.(1.2850 .* t .- 0.3357725) * sqrt(L/2)) # issue des calculs du bouquin en calculant correctement √(∫sin(0.5x)^2dx)\n",
    "# plot!(t, log.(E_th) .- log(2),label=\"Energie theorique\", ls=:dash)\n",
    "\n",
    "# TSI (k,v0) = (0.2, 1.3):\n",
    "# plot!(t, -0.001t .- 4.2, label=L\"y=0.001t - 5.0\")\n",
    "# TSI (k,v0) = (0.2, 2.4):\n",
    "# plot!(t, 0.2258t .- 6.4, label=L\"y=0.2258t - 8.4\")\n",
    "# TSI (k,v0) = (0.2, 3):\n",
    "# plot!(t, 0.2845t .- 6.1, label=L\"y=0.2845t - 8.2\")\n",
    "\n",
    "# Strong Landau damping\n",
    "# plot!(t, -0.285473t .+ 1, label=L\"y=-0.285473t + 1\")\n",
    "# plot!(t, 0.086671t .- 3.5, label=L\"y=0.086671t - 3.5\")\n",
    "\n",
    "title!(castest * \"\\n($(quadX)($(nx)), $(quadV)($(nv)))\")\n",
    "xlabel!(\"t (dt=$(dt))\")"
   ]
  },
  {
   "cell_type": "code",
   "execution_count": null,
   "metadata": {},
   "outputs": [],
   "source": [
    "plot(t, abs.((E_tot .- E_tot[1])) ./ E_tot[1], label=L\"\\frac{|E_{tot}(t) - E_{tot}(t=0)|}{E_{tot}(t=0)},\\quad dt=\"*\"$(dt)\", minorgrid=true)\n",
    "plot!(t_2, abs.((E_tot_2 .- E_tot_2[1])) ./ E_tot_2[1], label=L\"\\frac{|E_{tot}(t) - E_{tot}(t=0)|}{E_{tot}(t=0)}, \\quad dt=0.05\")"
   ]
  },
  {
   "cell_type": "code",
   "execution_count": null,
   "metadata": {},
   "outputs": [],
   "source": [
    "plot(t_2, abs.((E_tot_2 .- E_tot_2[1])) ./ E_tot_2[1], label=L\"\\frac{|E_{tot}(t) - E_{tot}(t=0)|}{E_{tot}(t=0)}, \\quad dt=0.05\", minorgrid=true)"
   ]
  },
  {
   "cell_type": "code",
   "execution_count": null,
   "metadata": {},
   "outputs": [],
   "source": []
  }
 ],
 "metadata": {
  "kernelspec": {
   "display_name": "Julia 1.7.0",
   "language": "julia",
   "name": "julia-1.7"
  },
  "language_info": {
   "file_extension": ".jl",
   "mimetype": "application/julia",
   "name": "julia",
   "version": "1.7.0"
  }
 },
 "nbformat": 4,
 "nbformat_minor": 2
}
